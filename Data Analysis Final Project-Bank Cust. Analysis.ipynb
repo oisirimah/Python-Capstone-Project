{
 "cells": [
  {
   "cell_type": "markdown",
   "id": "dc51424b-24d5-416a-b93c-24c611965259",
   "metadata": {},
   "source": [
    "## Problem Statement"
   ]
  },
  {
   "cell_type": "code",
   "execution_count": 2,
   "id": "61d31d0d-563a-4f3c-8eb9-974efdb8b271",
   "metadata": {},
   "outputs": [],
   "source": [
    "## A bank KLM is trying to analyze its dataset to gain insights into Customers behavior, Financial standing and engagement patterns"
   ]
  },
  {
   "cell_type": "code",
   "execution_count": 3,
   "id": "ba25ea24-90a4-400f-aff2-ab580957e08f",
   "metadata": {},
   "outputs": [],
   "source": [
    "## Objectives"
   ]
  },
  {
   "cell_type": "code",
   "execution_count": 4,
   "id": "2982399d-40b3-488b-90db-f920c6bd05ce",
   "metadata": {},
   "outputs": [],
   "source": [
    "## Explore and Analyze the Customer dataset to uncover valueable insights for the bank's decision-making process."
   ]
  },
  {
   "cell_type": "code",
   "execution_count": 5,
   "id": "5b97466b-eac8-404a-a598-25fc11fa0df6",
   "metadata": {},
   "outputs": [],
   "source": [
    "## Approach"
   ]
  },
  {
   "cell_type": "markdown",
   "id": "797e8be8-d537-4ff7-81ae-078eb59a3bc4",
   "metadata": {},
   "source": [
    "## To achieve this, we are going to approach the analysis using the CRISP-DM(Cross-Industry Standard Process for Data Mining) Framework¶\n",
    "* Properly understand the business and data\n",
    "* Prepare the data for analysis\n",
    "* Answer questions to help us achieve our objectives\n",
    "* Draw Conclusions\n",
    "* Prepare a summary"
   ]
  },
  {
   "cell_type": "markdown",
   "id": "4a9a6ed2-68b4-40d5-9e6a-94e8d69d9a10",
   "metadata": {},
   "source": [
    "1. Data Understanding/Exploration"
   ]
  },
  {
   "cell_type": "code",
   "execution_count": 8,
   "id": "c0fc14da-cc8a-45f6-8538-25e8c308127e",
   "metadata": {},
   "outputs": [],
   "source": [
    "import numpy as np\n",
    "import pandas as pd\n",
    "import matplotlib.pyplot as plt\n",
    "import seaborn as sb\n",
    "import warnings\n",
    "\n",
    "%matplotlib inline\n",
    "warnings.filterwarnings(\"ignore\")"
   ]
  },
  {
   "cell_type": "code",
   "execution_count": 9,
   "id": "b853133b-71ea-45d7-bdf2-4b99cdf81e39",
   "metadata": {},
   "outputs": [],
   "source": [
    "# read in all the datasets\n",
    "dict = pd.read_excel('Bank_Churn_Data_Dictionary.xlsx')\n",
    "cust_df = pd.read_excel('Bank_Churn_Messy.xlsx')\n",
    "acct_df = pd.read_excel('Bank_Churn_Messy.xlsx', sheet_name ='Account_Info')\n",
    "comb_df = pd.merge(cust_df, acct_df, on = 'CustomerId', how ='left')"
   ]
  },
  {
   "cell_type": "code",
   "execution_count": 10,
   "id": "3a2a536f-a998-4d0c-9f54-8077ed3ddf4b",
   "metadata": {},
   "outputs": [
    {
     "data": {
      "text/html": [
       "<div>\n",
       "<style scoped>\n",
       "    .dataframe tbody tr th:only-of-type {\n",
       "        vertical-align: middle;\n",
       "    }\n",
       "\n",
       "    .dataframe tbody tr th {\n",
       "        vertical-align: top;\n",
       "    }\n",
       "\n",
       "    .dataframe thead th {\n",
       "        text-align: right;\n",
       "    }\n",
       "</style>\n",
       "<table border=\"1\" class=\"dataframe\">\n",
       "  <thead>\n",
       "    <tr style=\"text-align: right;\">\n",
       "      <th></th>\n",
       "      <th>CustomerId</th>\n",
       "      <th>Surname</th>\n",
       "      <th>CreditScore</th>\n",
       "      <th>Geography</th>\n",
       "      <th>Gender</th>\n",
       "      <th>Age</th>\n",
       "      <th>Tenure_x</th>\n",
       "      <th>EstimatedSalary</th>\n",
       "      <th>Balance</th>\n",
       "      <th>NumOfProducts</th>\n",
       "      <th>HasCrCard</th>\n",
       "      <th>Tenure_y</th>\n",
       "      <th>IsActiveMember</th>\n",
       "      <th>Exited</th>\n",
       "    </tr>\n",
       "  </thead>\n",
       "  <tbody>\n",
       "    <tr>\n",
       "      <th>0</th>\n",
       "      <td>15634602</td>\n",
       "      <td>Hargrave</td>\n",
       "      <td>619</td>\n",
       "      <td>FRA</td>\n",
       "      <td>Female</td>\n",
       "      <td>42.0</td>\n",
       "      <td>2</td>\n",
       "      <td>€101348.88</td>\n",
       "      <td>€0.0</td>\n",
       "      <td>1</td>\n",
       "      <td>Yes</td>\n",
       "      <td>2</td>\n",
       "      <td>Yes</td>\n",
       "      <td>1</td>\n",
       "    </tr>\n",
       "    <tr>\n",
       "      <th>1</th>\n",
       "      <td>15634602</td>\n",
       "      <td>Hargrave</td>\n",
       "      <td>619</td>\n",
       "      <td>FRA</td>\n",
       "      <td>Female</td>\n",
       "      <td>42.0</td>\n",
       "      <td>2</td>\n",
       "      <td>€101348.88</td>\n",
       "      <td>€0.0</td>\n",
       "      <td>1</td>\n",
       "      <td>Yes</td>\n",
       "      <td>2</td>\n",
       "      <td>Yes</td>\n",
       "      <td>1</td>\n",
       "    </tr>\n",
       "    <tr>\n",
       "      <th>2</th>\n",
       "      <td>15647311</td>\n",
       "      <td>Hill</td>\n",
       "      <td>608</td>\n",
       "      <td>Spain</td>\n",
       "      <td>Female</td>\n",
       "      <td>41.0</td>\n",
       "      <td>1</td>\n",
       "      <td>€112542.58</td>\n",
       "      <td>€83807.86</td>\n",
       "      <td>1</td>\n",
       "      <td>Yes</td>\n",
       "      <td>1</td>\n",
       "      <td>Yes</td>\n",
       "      <td>0</td>\n",
       "    </tr>\n",
       "    <tr>\n",
       "      <th>3</th>\n",
       "      <td>15619304</td>\n",
       "      <td>Onio</td>\n",
       "      <td>502</td>\n",
       "      <td>French</td>\n",
       "      <td>Female</td>\n",
       "      <td>42.0</td>\n",
       "      <td>8</td>\n",
       "      <td>€113931.57</td>\n",
       "      <td>€159660.8</td>\n",
       "      <td>3</td>\n",
       "      <td>No</td>\n",
       "      <td>8</td>\n",
       "      <td>No</td>\n",
       "      <td>1</td>\n",
       "    </tr>\n",
       "    <tr>\n",
       "      <th>4</th>\n",
       "      <td>15701354</td>\n",
       "      <td>Boni</td>\n",
       "      <td>699</td>\n",
       "      <td>FRA</td>\n",
       "      <td>Female</td>\n",
       "      <td>39.0</td>\n",
       "      <td>1</td>\n",
       "      <td>€93826.63</td>\n",
       "      <td>€0.0</td>\n",
       "      <td>2</td>\n",
       "      <td>No</td>\n",
       "      <td>1</td>\n",
       "      <td>No</td>\n",
       "      <td>0</td>\n",
       "    </tr>\n",
       "  </tbody>\n",
       "</table>\n",
       "</div>"
      ],
      "text/plain": [
       "   CustomerId   Surname  CreditScore Geography  Gender   Age  Tenure_x  \\\n",
       "0    15634602  Hargrave          619       FRA  Female  42.0         2   \n",
       "1    15634602  Hargrave          619       FRA  Female  42.0         2   \n",
       "2    15647311      Hill          608     Spain  Female  41.0         1   \n",
       "3    15619304      Onio          502    French  Female  42.0         8   \n",
       "4    15701354      Boni          699       FRA  Female  39.0         1   \n",
       "\n",
       "  EstimatedSalary    Balance  NumOfProducts HasCrCard  Tenure_y  \\\n",
       "0      €101348.88       €0.0              1       Yes         2   \n",
       "1      €101348.88       €0.0              1       Yes         2   \n",
       "2      €112542.58  €83807.86              1       Yes         1   \n",
       "3      €113931.57  €159660.8              3        No         8   \n",
       "4       €93826.63       €0.0              2        No         1   \n",
       "\n",
       "  IsActiveMember  Exited  \n",
       "0            Yes       1  \n",
       "1            Yes       1  \n",
       "2            Yes       0  \n",
       "3             No       1  \n",
       "4             No       0  "
      ]
     },
     "execution_count": 10,
     "metadata": {},
     "output_type": "execute_result"
    }
   ],
   "source": [
    "comb_df.head()"
   ]
  },
  {
   "cell_type": "code",
   "execution_count": 11,
   "id": "ff1be24a-487c-4209-acb4-416ff8af0a32",
   "metadata": {},
   "outputs": [
    {
     "data": {
      "text/html": [
       "<div>\n",
       "<style scoped>\n",
       "    .dataframe tbody tr th:only-of-type {\n",
       "        vertical-align: middle;\n",
       "    }\n",
       "\n",
       "    .dataframe tbody tr th {\n",
       "        vertical-align: top;\n",
       "    }\n",
       "\n",
       "    .dataframe thead th {\n",
       "        text-align: right;\n",
       "    }\n",
       "</style>\n",
       "<table border=\"1\" class=\"dataframe\">\n",
       "  <thead>\n",
       "    <tr style=\"text-align: right;\">\n",
       "      <th></th>\n",
       "      <th>Field</th>\n",
       "      <th>Description</th>\n",
       "    </tr>\n",
       "  </thead>\n",
       "  <tbody>\n",
       "    <tr>\n",
       "      <th>0</th>\n",
       "      <td>CustomerId</td>\n",
       "      <td>A unique identifier for each customer</td>\n",
       "    </tr>\n",
       "    <tr>\n",
       "      <th>1</th>\n",
       "      <td>Surname</td>\n",
       "      <td>The customer's last name</td>\n",
       "    </tr>\n",
       "    <tr>\n",
       "      <th>2</th>\n",
       "      <td>CreditScore</td>\n",
       "      <td>A numerical value representing the customer's ...</td>\n",
       "    </tr>\n",
       "    <tr>\n",
       "      <th>3</th>\n",
       "      <td>Geography</td>\n",
       "      <td>The country where the customer resides (France...</td>\n",
       "    </tr>\n",
       "    <tr>\n",
       "      <th>4</th>\n",
       "      <td>Gender</td>\n",
       "      <td>The customer's gender (Male or Female)</td>\n",
       "    </tr>\n",
       "  </tbody>\n",
       "</table>\n",
       "</div>"
      ],
      "text/plain": [
       "         Field                                        Description\n",
       "0   CustomerId              A unique identifier for each customer\n",
       "1      Surname                           The customer's last name\n",
       "2  CreditScore  A numerical value representing the customer's ...\n",
       "3    Geography  The country where the customer resides (France...\n",
       "4       Gender             The customer's gender (Male or Female)"
      ]
     },
     "execution_count": 11,
     "metadata": {},
     "output_type": "execute_result"
    }
   ],
   "source": [
    "dict.head()"
   ]
  },
  {
   "cell_type": "code",
   "execution_count": 12,
   "id": "957f897b-07c3-47e1-a242-d44cad620808",
   "metadata": {},
   "outputs": [
    {
     "data": {
      "text/html": [
       "<div>\n",
       "<style scoped>\n",
       "    .dataframe tbody tr th:only-of-type {\n",
       "        vertical-align: middle;\n",
       "    }\n",
       "\n",
       "    .dataframe tbody tr th {\n",
       "        vertical-align: top;\n",
       "    }\n",
       "\n",
       "    .dataframe thead th {\n",
       "        text-align: right;\n",
       "    }\n",
       "</style>\n",
       "<table border=\"1\" class=\"dataframe\">\n",
       "  <thead>\n",
       "    <tr style=\"text-align: right;\">\n",
       "      <th></th>\n",
       "      <th>Field</th>\n",
       "      <th>Description</th>\n",
       "    </tr>\n",
       "  </thead>\n",
       "  <tbody>\n",
       "    <tr>\n",
       "      <th>8</th>\n",
       "      <td>NumOfProducts</td>\n",
       "      <td>The number of bank products the customer uses ...</td>\n",
       "    </tr>\n",
       "    <tr>\n",
       "      <th>9</th>\n",
       "      <td>HasCrCard</td>\n",
       "      <td>Whether the customer has a credit card (1 = ye...</td>\n",
       "    </tr>\n",
       "    <tr>\n",
       "      <th>10</th>\n",
       "      <td>IsActiveMember</td>\n",
       "      <td>Whether the customer is an active member (1 = ...</td>\n",
       "    </tr>\n",
       "    <tr>\n",
       "      <th>11</th>\n",
       "      <td>EstimatedSalary</td>\n",
       "      <td>The estimated salary of the customer</td>\n",
       "    </tr>\n",
       "    <tr>\n",
       "      <th>12</th>\n",
       "      <td>Exited</td>\n",
       "      <td>Whether the customer has churned (1 = yes, 0 =...</td>\n",
       "    </tr>\n",
       "  </tbody>\n",
       "</table>\n",
       "</div>"
      ],
      "text/plain": [
       "              Field                                        Description\n",
       "8     NumOfProducts  The number of bank products the customer uses ...\n",
       "9         HasCrCard  Whether the customer has a credit card (1 = ye...\n",
       "10   IsActiveMember  Whether the customer is an active member (1 = ...\n",
       "11  EstimatedSalary               The estimated salary of the customer\n",
       "12           Exited  Whether the customer has churned (1 = yes, 0 =..."
      ]
     },
     "execution_count": 12,
     "metadata": {},
     "output_type": "execute_result"
    }
   ],
   "source": [
    "dict.tail()"
   ]
  },
  {
   "cell_type": "code",
   "execution_count": 13,
   "id": "afd29a67-c10e-440d-a1b9-b1697d5b84b4",
   "metadata": {},
   "outputs": [
    {
     "data": {
      "text/html": [
       "<div>\n",
       "<style scoped>\n",
       "    .dataframe tbody tr th:only-of-type {\n",
       "        vertical-align: middle;\n",
       "    }\n",
       "\n",
       "    .dataframe tbody tr th {\n",
       "        vertical-align: top;\n",
       "    }\n",
       "\n",
       "    .dataframe thead th {\n",
       "        text-align: right;\n",
       "    }\n",
       "</style>\n",
       "<table border=\"1\" class=\"dataframe\">\n",
       "  <thead>\n",
       "    <tr style=\"text-align: right;\">\n",
       "      <th></th>\n",
       "      <th>CustomerId</th>\n",
       "      <th>Surname</th>\n",
       "      <th>CreditScore</th>\n",
       "      <th>Geography</th>\n",
       "      <th>Gender</th>\n",
       "      <th>Age</th>\n",
       "      <th>Tenure_x</th>\n",
       "      <th>EstimatedSalary</th>\n",
       "      <th>Balance</th>\n",
       "      <th>NumOfProducts</th>\n",
       "      <th>HasCrCard</th>\n",
       "      <th>Tenure_y</th>\n",
       "      <th>IsActiveMember</th>\n",
       "      <th>Exited</th>\n",
       "    </tr>\n",
       "  </thead>\n",
       "  <tbody>\n",
       "    <tr>\n",
       "      <th>9999</th>\n",
       "      <td>15682355</td>\n",
       "      <td>Sabbatini</td>\n",
       "      <td>772</td>\n",
       "      <td>Germany</td>\n",
       "      <td>Male</td>\n",
       "      <td>42.0</td>\n",
       "      <td>3</td>\n",
       "      <td>€92888.52</td>\n",
       "      <td>€75075.31</td>\n",
       "      <td>2</td>\n",
       "      <td>No</td>\n",
       "      <td>3</td>\n",
       "      <td>No</td>\n",
       "      <td>1</td>\n",
       "    </tr>\n",
       "    <tr>\n",
       "      <th>10000</th>\n",
       "      <td>15628319</td>\n",
       "      <td>Walker</td>\n",
       "      <td>792</td>\n",
       "      <td>French</td>\n",
       "      <td>Female</td>\n",
       "      <td>28.0</td>\n",
       "      <td>4</td>\n",
       "      <td>€38190.78</td>\n",
       "      <td>€130142.79</td>\n",
       "      <td>1</td>\n",
       "      <td>No</td>\n",
       "      <td>4</td>\n",
       "      <td>No</td>\n",
       "      <td>0</td>\n",
       "    </tr>\n",
       "    <tr>\n",
       "      <th>10001</th>\n",
       "      <td>15628319</td>\n",
       "      <td>Walker</td>\n",
       "      <td>792</td>\n",
       "      <td>French</td>\n",
       "      <td>Female</td>\n",
       "      <td>28.0</td>\n",
       "      <td>4</td>\n",
       "      <td>€38190.78</td>\n",
       "      <td>€130142.79</td>\n",
       "      <td>1</td>\n",
       "      <td>No</td>\n",
       "      <td>4</td>\n",
       "      <td>No</td>\n",
       "      <td>0</td>\n",
       "    </tr>\n",
       "    <tr>\n",
       "      <th>10002</th>\n",
       "      <td>15628319</td>\n",
       "      <td>Walker</td>\n",
       "      <td>792</td>\n",
       "      <td>French</td>\n",
       "      <td>Female</td>\n",
       "      <td>28.0</td>\n",
       "      <td>4</td>\n",
       "      <td>€38190.78</td>\n",
       "      <td>€130142.79</td>\n",
       "      <td>1</td>\n",
       "      <td>No</td>\n",
       "      <td>4</td>\n",
       "      <td>No</td>\n",
       "      <td>0</td>\n",
       "    </tr>\n",
       "    <tr>\n",
       "      <th>10003</th>\n",
       "      <td>15628319</td>\n",
       "      <td>Walker</td>\n",
       "      <td>792</td>\n",
       "      <td>French</td>\n",
       "      <td>Female</td>\n",
       "      <td>28.0</td>\n",
       "      <td>4</td>\n",
       "      <td>€38190.78</td>\n",
       "      <td>€130142.79</td>\n",
       "      <td>1</td>\n",
       "      <td>No</td>\n",
       "      <td>4</td>\n",
       "      <td>No</td>\n",
       "      <td>0</td>\n",
       "    </tr>\n",
       "  </tbody>\n",
       "</table>\n",
       "</div>"
      ],
      "text/plain": [
       "       CustomerId    Surname  CreditScore Geography  Gender   Age  Tenure_x  \\\n",
       "9999     15682355  Sabbatini          772   Germany    Male  42.0         3   \n",
       "10000    15628319     Walker          792    French  Female  28.0         4   \n",
       "10001    15628319     Walker          792    French  Female  28.0         4   \n",
       "10002    15628319     Walker          792    French  Female  28.0         4   \n",
       "10003    15628319     Walker          792    French  Female  28.0         4   \n",
       "\n",
       "      EstimatedSalary     Balance  NumOfProducts HasCrCard  Tenure_y  \\\n",
       "9999        €92888.52   €75075.31              2        No         3   \n",
       "10000       €38190.78  €130142.79              1        No         4   \n",
       "10001       €38190.78  €130142.79              1        No         4   \n",
       "10002       €38190.78  €130142.79              1        No         4   \n",
       "10003       €38190.78  €130142.79              1        No         4   \n",
       "\n",
       "      IsActiveMember  Exited  \n",
       "9999              No       1  \n",
       "10000             No       0  \n",
       "10001             No       0  \n",
       "10002             No       0  \n",
       "10003             No       0  "
      ]
     },
     "execution_count": 13,
     "metadata": {},
     "output_type": "execute_result"
    }
   ],
   "source": [
    "comb_df.tail()"
   ]
  },
  {
   "cell_type": "code",
   "execution_count": 14,
   "id": "eb2f868e-d153-423e-859d-010995f38510",
   "metadata": {},
   "outputs": [],
   "source": [
    "comb_df['Geography'].replace({'FRA':'France'},inplace=True)\n",
    "comb_df['Geography'].replace({'French':'France'},inplace=True)"
   ]
  },
  {
   "cell_type": "code",
   "execution_count": 15,
   "id": "3979ba0d-f0f3-4da6-8222-d29a2cf2757d",
   "metadata": {},
   "outputs": [
    {
     "data": {
      "text/html": [
       "<div>\n",
       "<style scoped>\n",
       "    .dataframe tbody tr th:only-of-type {\n",
       "        vertical-align: middle;\n",
       "    }\n",
       "\n",
       "    .dataframe tbody tr th {\n",
       "        vertical-align: top;\n",
       "    }\n",
       "\n",
       "    .dataframe thead th {\n",
       "        text-align: right;\n",
       "    }\n",
       "</style>\n",
       "<table border=\"1\" class=\"dataframe\">\n",
       "  <thead>\n",
       "    <tr style=\"text-align: right;\">\n",
       "      <th></th>\n",
       "      <th>CustomerId</th>\n",
       "      <th>Surname</th>\n",
       "      <th>CreditScore</th>\n",
       "      <th>Geography</th>\n",
       "      <th>Gender</th>\n",
       "      <th>Age</th>\n",
       "      <th>Tenure_x</th>\n",
       "      <th>EstimatedSalary</th>\n",
       "      <th>Balance</th>\n",
       "      <th>NumOfProducts</th>\n",
       "      <th>HasCrCard</th>\n",
       "      <th>Tenure_y</th>\n",
       "      <th>IsActiveMember</th>\n",
       "      <th>Exited</th>\n",
       "    </tr>\n",
       "  </thead>\n",
       "  <tbody>\n",
       "    <tr>\n",
       "      <th>9999</th>\n",
       "      <td>15682355</td>\n",
       "      <td>Sabbatini</td>\n",
       "      <td>772</td>\n",
       "      <td>Germany</td>\n",
       "      <td>Male</td>\n",
       "      <td>42.0</td>\n",
       "      <td>3</td>\n",
       "      <td>€92888.52</td>\n",
       "      <td>€75075.31</td>\n",
       "      <td>2</td>\n",
       "      <td>No</td>\n",
       "      <td>3</td>\n",
       "      <td>No</td>\n",
       "      <td>1</td>\n",
       "    </tr>\n",
       "    <tr>\n",
       "      <th>10000</th>\n",
       "      <td>15628319</td>\n",
       "      <td>Walker</td>\n",
       "      <td>792</td>\n",
       "      <td>France</td>\n",
       "      <td>Female</td>\n",
       "      <td>28.0</td>\n",
       "      <td>4</td>\n",
       "      <td>€38190.78</td>\n",
       "      <td>€130142.79</td>\n",
       "      <td>1</td>\n",
       "      <td>No</td>\n",
       "      <td>4</td>\n",
       "      <td>No</td>\n",
       "      <td>0</td>\n",
       "    </tr>\n",
       "    <tr>\n",
       "      <th>10001</th>\n",
       "      <td>15628319</td>\n",
       "      <td>Walker</td>\n",
       "      <td>792</td>\n",
       "      <td>France</td>\n",
       "      <td>Female</td>\n",
       "      <td>28.0</td>\n",
       "      <td>4</td>\n",
       "      <td>€38190.78</td>\n",
       "      <td>€130142.79</td>\n",
       "      <td>1</td>\n",
       "      <td>No</td>\n",
       "      <td>4</td>\n",
       "      <td>No</td>\n",
       "      <td>0</td>\n",
       "    </tr>\n",
       "    <tr>\n",
       "      <th>10002</th>\n",
       "      <td>15628319</td>\n",
       "      <td>Walker</td>\n",
       "      <td>792</td>\n",
       "      <td>France</td>\n",
       "      <td>Female</td>\n",
       "      <td>28.0</td>\n",
       "      <td>4</td>\n",
       "      <td>€38190.78</td>\n",
       "      <td>€130142.79</td>\n",
       "      <td>1</td>\n",
       "      <td>No</td>\n",
       "      <td>4</td>\n",
       "      <td>No</td>\n",
       "      <td>0</td>\n",
       "    </tr>\n",
       "    <tr>\n",
       "      <th>10003</th>\n",
       "      <td>15628319</td>\n",
       "      <td>Walker</td>\n",
       "      <td>792</td>\n",
       "      <td>France</td>\n",
       "      <td>Female</td>\n",
       "      <td>28.0</td>\n",
       "      <td>4</td>\n",
       "      <td>€38190.78</td>\n",
       "      <td>€130142.79</td>\n",
       "      <td>1</td>\n",
       "      <td>No</td>\n",
       "      <td>4</td>\n",
       "      <td>No</td>\n",
       "      <td>0</td>\n",
       "    </tr>\n",
       "  </tbody>\n",
       "</table>\n",
       "</div>"
      ],
      "text/plain": [
       "       CustomerId    Surname  CreditScore Geography  Gender   Age  Tenure_x  \\\n",
       "9999     15682355  Sabbatini          772   Germany    Male  42.0         3   \n",
       "10000    15628319     Walker          792    France  Female  28.0         4   \n",
       "10001    15628319     Walker          792    France  Female  28.0         4   \n",
       "10002    15628319     Walker          792    France  Female  28.0         4   \n",
       "10003    15628319     Walker          792    France  Female  28.0         4   \n",
       "\n",
       "      EstimatedSalary     Balance  NumOfProducts HasCrCard  Tenure_y  \\\n",
       "9999        €92888.52   €75075.31              2        No         3   \n",
       "10000       €38190.78  €130142.79              1        No         4   \n",
       "10001       €38190.78  €130142.79              1        No         4   \n",
       "10002       €38190.78  €130142.79              1        No         4   \n",
       "10003       €38190.78  €130142.79              1        No         4   \n",
       "\n",
       "      IsActiveMember  Exited  \n",
       "9999              No       1  \n",
       "10000             No       0  \n",
       "10001             No       0  \n",
       "10002             No       0  \n",
       "10003             No       0  "
      ]
     },
     "execution_count": 15,
     "metadata": {},
     "output_type": "execute_result"
    }
   ],
   "source": [
    "comb_df.tail()"
   ]
  },
  {
   "cell_type": "code",
   "execution_count": null,
   "id": "cc7184bf-3409-443c-bfc3-7372f3957150",
   "metadata": {},
   "outputs": [],
   "source": []
  },
  {
   "cell_type": "code",
   "execution_count": 16,
   "id": "ad816779-116d-4d22-a997-27f5ba92769b",
   "metadata": {},
   "outputs": [
    {
     "data": {
      "text/html": [
       "<div>\n",
       "<style scoped>\n",
       "    .dataframe tbody tr th:only-of-type {\n",
       "        vertical-align: middle;\n",
       "    }\n",
       "\n",
       "    .dataframe tbody tr th {\n",
       "        vertical-align: top;\n",
       "    }\n",
       "\n",
       "    .dataframe thead th {\n",
       "        text-align: right;\n",
       "    }\n",
       "</style>\n",
       "<table border=\"1\" class=\"dataframe\">\n",
       "  <thead>\n",
       "    <tr style=\"text-align: right;\">\n",
       "      <th></th>\n",
       "      <th>CustomerId</th>\n",
       "      <th>Surname</th>\n",
       "      <th>CreditScore</th>\n",
       "      <th>Geography</th>\n",
       "      <th>Gender</th>\n",
       "      <th>Age</th>\n",
       "      <th>Tenure_x</th>\n",
       "      <th>EstimatedSalary</th>\n",
       "      <th>Balance</th>\n",
       "      <th>NumOfProducts</th>\n",
       "      <th>HasCrCard</th>\n",
       "      <th>Tenure_y</th>\n",
       "      <th>IsActiveMember</th>\n",
       "      <th>Exited</th>\n",
       "    </tr>\n",
       "  </thead>\n",
       "  <tbody>\n",
       "    <tr>\n",
       "      <th>9999</th>\n",
       "      <td>15682355</td>\n",
       "      <td>Sabbatini</td>\n",
       "      <td>772</td>\n",
       "      <td>Germany</td>\n",
       "      <td>Male</td>\n",
       "      <td>42.0</td>\n",
       "      <td>3</td>\n",
       "      <td>€92888.52</td>\n",
       "      <td>€75075.31</td>\n",
       "      <td>2</td>\n",
       "      <td>No</td>\n",
       "      <td>3</td>\n",
       "      <td>No</td>\n",
       "      <td>1</td>\n",
       "    </tr>\n",
       "    <tr>\n",
       "      <th>10000</th>\n",
       "      <td>15628319</td>\n",
       "      <td>Walker</td>\n",
       "      <td>792</td>\n",
       "      <td>France</td>\n",
       "      <td>Female</td>\n",
       "      <td>28.0</td>\n",
       "      <td>4</td>\n",
       "      <td>€38190.78</td>\n",
       "      <td>€130142.79</td>\n",
       "      <td>1</td>\n",
       "      <td>No</td>\n",
       "      <td>4</td>\n",
       "      <td>No</td>\n",
       "      <td>0</td>\n",
       "    </tr>\n",
       "    <tr>\n",
       "      <th>10001</th>\n",
       "      <td>15628319</td>\n",
       "      <td>Walker</td>\n",
       "      <td>792</td>\n",
       "      <td>France</td>\n",
       "      <td>Female</td>\n",
       "      <td>28.0</td>\n",
       "      <td>4</td>\n",
       "      <td>€38190.78</td>\n",
       "      <td>€130142.79</td>\n",
       "      <td>1</td>\n",
       "      <td>No</td>\n",
       "      <td>4</td>\n",
       "      <td>No</td>\n",
       "      <td>0</td>\n",
       "    </tr>\n",
       "    <tr>\n",
       "      <th>10002</th>\n",
       "      <td>15628319</td>\n",
       "      <td>Walker</td>\n",
       "      <td>792</td>\n",
       "      <td>France</td>\n",
       "      <td>Female</td>\n",
       "      <td>28.0</td>\n",
       "      <td>4</td>\n",
       "      <td>€38190.78</td>\n",
       "      <td>€130142.79</td>\n",
       "      <td>1</td>\n",
       "      <td>No</td>\n",
       "      <td>4</td>\n",
       "      <td>No</td>\n",
       "      <td>0</td>\n",
       "    </tr>\n",
       "    <tr>\n",
       "      <th>10003</th>\n",
       "      <td>15628319</td>\n",
       "      <td>Walker</td>\n",
       "      <td>792</td>\n",
       "      <td>France</td>\n",
       "      <td>Female</td>\n",
       "      <td>28.0</td>\n",
       "      <td>4</td>\n",
       "      <td>€38190.78</td>\n",
       "      <td>€130142.79</td>\n",
       "      <td>1</td>\n",
       "      <td>No</td>\n",
       "      <td>4</td>\n",
       "      <td>No</td>\n",
       "      <td>0</td>\n",
       "    </tr>\n",
       "  </tbody>\n",
       "</table>\n",
       "</div>"
      ],
      "text/plain": [
       "       CustomerId    Surname  CreditScore Geography  Gender   Age  Tenure_x  \\\n",
       "9999     15682355  Sabbatini          772   Germany    Male  42.0         3   \n",
       "10000    15628319     Walker          792    France  Female  28.0         4   \n",
       "10001    15628319     Walker          792    France  Female  28.0         4   \n",
       "10002    15628319     Walker          792    France  Female  28.0         4   \n",
       "10003    15628319     Walker          792    France  Female  28.0         4   \n",
       "\n",
       "      EstimatedSalary     Balance  NumOfProducts HasCrCard  Tenure_y  \\\n",
       "9999        €92888.52   €75075.31              2        No         3   \n",
       "10000       €38190.78  €130142.79              1        No         4   \n",
       "10001       €38190.78  €130142.79              1        No         4   \n",
       "10002       €38190.78  €130142.79              1        No         4   \n",
       "10003       €38190.78  €130142.79              1        No         4   \n",
       "\n",
       "      IsActiveMember  Exited  \n",
       "9999              No       1  \n",
       "10000             No       0  \n",
       "10001             No       0  \n",
       "10002             No       0  \n",
       "10003             No       0  "
      ]
     },
     "execution_count": 16,
     "metadata": {},
     "output_type": "execute_result"
    }
   ],
   "source": [
    "comb_df.tail()"
   ]
  },
  {
   "cell_type": "code",
   "execution_count": 17,
   "id": "480eda67-8ad6-4cbc-b3fe-6e0a45ec7532",
   "metadata": {},
   "outputs": [
    {
     "name": "stdout",
     "output_type": "stream",
     "text": [
      "<class 'pandas.core.frame.DataFrame'>\n",
      "RangeIndex: 10004 entries, 0 to 10003\n",
      "Data columns (total 14 columns):\n",
      " #   Column           Non-Null Count  Dtype  \n",
      "---  ------           --------------  -----  \n",
      " 0   CustomerId       10004 non-null  int64  \n",
      " 1   Surname          10001 non-null  object \n",
      " 2   CreditScore      10004 non-null  int64  \n",
      " 3   Geography        10004 non-null  object \n",
      " 4   Gender           10004 non-null  object \n",
      " 5   Age              10001 non-null  float64\n",
      " 6   Tenure_x         10004 non-null  int64  \n",
      " 7   EstimatedSalary  10004 non-null  object \n",
      " 8   Balance          10004 non-null  object \n",
      " 9   NumOfProducts    10004 non-null  int64  \n",
      " 10  HasCrCard        10004 non-null  object \n",
      " 11  Tenure_y         10004 non-null  int64  \n",
      " 12  IsActiveMember   10004 non-null  object \n",
      " 13  Exited           10004 non-null  int64  \n",
      "dtypes: float64(1), int64(6), object(7)\n",
      "memory usage: 1.1+ MB\n"
     ]
    }
   ],
   "source": [
    "comb_df.info()"
   ]
  },
  {
   "cell_type": "code",
   "execution_count": 18,
   "id": "0ab1d74d-05c4-4d15-98bd-51d3cf3658de",
   "metadata": {},
   "outputs": [
    {
     "data": {
      "text/plain": [
       "CustomerId         0\n",
       "Surname            3\n",
       "CreditScore        0\n",
       "Geography          0\n",
       "Gender             0\n",
       "Age                3\n",
       "Tenure_x           0\n",
       "EstimatedSalary    0\n",
       "Balance            0\n",
       "NumOfProducts      0\n",
       "HasCrCard          0\n",
       "Tenure_y           0\n",
       "IsActiveMember     0\n",
       "Exited             0\n",
       "dtype: int64"
      ]
     },
     "execution_count": 18,
     "metadata": {},
     "output_type": "execute_result"
    }
   ],
   "source": [
    "comb_df.isnull().sum()"
   ]
  },
  {
   "cell_type": "code",
   "execution_count": 19,
   "id": "c3a54664-a2b2-4c10-a098-9f48090f072e",
   "metadata": {},
   "outputs": [],
   "source": [
    "comb_df.dropna(axis =0, inplace =True)"
   ]
  },
  {
   "cell_type": "code",
   "execution_count": 20,
   "id": "b4d2bad2-eca5-4bbe-843e-485d8497eabf",
   "metadata": {},
   "outputs": [
    {
     "data": {
      "text/plain": [
       "CustomerId         0.0\n",
       "Surname            0.0\n",
       "CreditScore        0.0\n",
       "Geography          0.0\n",
       "Gender             0.0\n",
       "Age                0.0\n",
       "Tenure_x           0.0\n",
       "EstimatedSalary    0.0\n",
       "Balance            0.0\n",
       "NumOfProducts      0.0\n",
       "HasCrCard          0.0\n",
       "Tenure_y           0.0\n",
       "IsActiveMember     0.0\n",
       "Exited             0.0\n",
       "dtype: float64"
      ]
     },
     "execution_count": 20,
     "metadata": {},
     "output_type": "execute_result"
    }
   ],
   "source": [
    "comb_df.isnull().sum()/len(comb_df)*100"
   ]
  },
  {
   "cell_type": "code",
   "execution_count": 21,
   "id": "ec7e29a4-dc34-45d4-926f-e767b1b6ac65",
   "metadata": {},
   "outputs": [
    {
     "data": {
      "text/plain": [
       "(10001, 14)"
      ]
     },
     "execution_count": 21,
     "metadata": {},
     "output_type": "execute_result"
    }
   ],
   "source": [
    "comb_df.shape"
   ]
  },
  {
   "cell_type": "code",
   "execution_count": 22,
   "id": "25adb419-0e46-4589-8800-21ae256e575b",
   "metadata": {},
   "outputs": [
    {
     "data": {
      "text/html": [
       "<div>\n",
       "<style scoped>\n",
       "    .dataframe tbody tr th:only-of-type {\n",
       "        vertical-align: middle;\n",
       "    }\n",
       "\n",
       "    .dataframe tbody tr th {\n",
       "        vertical-align: top;\n",
       "    }\n",
       "\n",
       "    .dataframe thead th {\n",
       "        text-align: right;\n",
       "    }\n",
       "</style>\n",
       "<table border=\"1\" class=\"dataframe\">\n",
       "  <thead>\n",
       "    <tr style=\"text-align: right;\">\n",
       "      <th></th>\n",
       "      <th>CustomerId</th>\n",
       "      <th>CreditScore</th>\n",
       "      <th>Age</th>\n",
       "      <th>Tenure_x</th>\n",
       "      <th>NumOfProducts</th>\n",
       "      <th>Tenure_y</th>\n",
       "      <th>Exited</th>\n",
       "    </tr>\n",
       "  </thead>\n",
       "  <tbody>\n",
       "    <tr>\n",
       "      <th>count</th>\n",
       "      <td>1.000100e+04</td>\n",
       "      <td>10001.000000</td>\n",
       "      <td>10001.000000</td>\n",
       "      <td>10001.000000</td>\n",
       "      <td>10001.000000</td>\n",
       "      <td>10001.000000</td>\n",
       "      <td>10001.000000</td>\n",
       "    </tr>\n",
       "    <tr>\n",
       "      <th>mean</th>\n",
       "      <td>1.569092e+07</td>\n",
       "      <td>650.584642</td>\n",
       "      <td>38.919108</td>\n",
       "      <td>5.012599</td>\n",
       "      <td>1.530147</td>\n",
       "      <td>5.012599</td>\n",
       "      <td>0.203780</td>\n",
       "    </tr>\n",
       "    <tr>\n",
       "      <th>std</th>\n",
       "      <td>7.193043e+04</td>\n",
       "      <td>96.670158</td>\n",
       "      <td>10.488725</td>\n",
       "      <td>2.891996</td>\n",
       "      <td>0.581649</td>\n",
       "      <td>2.891996</td>\n",
       "      <td>0.402827</td>\n",
       "    </tr>\n",
       "    <tr>\n",
       "      <th>min</th>\n",
       "      <td>1.556570e+07</td>\n",
       "      <td>350.000000</td>\n",
       "      <td>18.000000</td>\n",
       "      <td>0.000000</td>\n",
       "      <td>1.000000</td>\n",
       "      <td>0.000000</td>\n",
       "      <td>0.000000</td>\n",
       "    </tr>\n",
       "    <tr>\n",
       "      <th>25%</th>\n",
       "      <td>1.562842e+07</td>\n",
       "      <td>584.000000</td>\n",
       "      <td>32.000000</td>\n",
       "      <td>3.000000</td>\n",
       "      <td>1.000000</td>\n",
       "      <td>3.000000</td>\n",
       "      <td>0.000000</td>\n",
       "    </tr>\n",
       "    <tr>\n",
       "      <th>50%</th>\n",
       "      <td>1.569070e+07</td>\n",
       "      <td>652.000000</td>\n",
       "      <td>37.000000</td>\n",
       "      <td>5.000000</td>\n",
       "      <td>1.000000</td>\n",
       "      <td>5.000000</td>\n",
       "      <td>0.000000</td>\n",
       "    </tr>\n",
       "    <tr>\n",
       "      <th>75%</th>\n",
       "      <td>1.575322e+07</td>\n",
       "      <td>718.000000</td>\n",
       "      <td>44.000000</td>\n",
       "      <td>7.000000</td>\n",
       "      <td>2.000000</td>\n",
       "      <td>7.000000</td>\n",
       "      <td>0.000000</td>\n",
       "    </tr>\n",
       "    <tr>\n",
       "      <th>max</th>\n",
       "      <td>1.581569e+07</td>\n",
       "      <td>850.000000</td>\n",
       "      <td>92.000000</td>\n",
       "      <td>10.000000</td>\n",
       "      <td>4.000000</td>\n",
       "      <td>10.000000</td>\n",
       "      <td>1.000000</td>\n",
       "    </tr>\n",
       "  </tbody>\n",
       "</table>\n",
       "</div>"
      ],
      "text/plain": [
       "         CustomerId   CreditScore           Age      Tenure_x  NumOfProducts  \\\n",
       "count  1.000100e+04  10001.000000  10001.000000  10001.000000   10001.000000   \n",
       "mean   1.569092e+07    650.584642     38.919108      5.012599       1.530147   \n",
       "std    7.193043e+04     96.670158     10.488725      2.891996       0.581649   \n",
       "min    1.556570e+07    350.000000     18.000000      0.000000       1.000000   \n",
       "25%    1.562842e+07    584.000000     32.000000      3.000000       1.000000   \n",
       "50%    1.569070e+07    652.000000     37.000000      5.000000       1.000000   \n",
       "75%    1.575322e+07    718.000000     44.000000      7.000000       2.000000   \n",
       "max    1.581569e+07    850.000000     92.000000     10.000000       4.000000   \n",
       "\n",
       "           Tenure_y        Exited  \n",
       "count  10001.000000  10001.000000  \n",
       "mean       5.012599      0.203780  \n",
       "std        2.891996      0.402827  \n",
       "min        0.000000      0.000000  \n",
       "25%        3.000000      0.000000  \n",
       "50%        5.000000      0.000000  \n",
       "75%        7.000000      0.000000  \n",
       "max       10.000000      1.000000  "
      ]
     },
     "execution_count": 22,
     "metadata": {},
     "output_type": "execute_result"
    }
   ],
   "source": [
    "comb_df.describe()"
   ]
  },
  {
   "cell_type": "code",
   "execution_count": 23,
   "id": "e0bda6d0-cdcd-4457-864f-e905d7dbddec",
   "metadata": {},
   "outputs": [
    {
     "data": {
      "text/plain": [
       "(10001, 14)"
      ]
     },
     "execution_count": 23,
     "metadata": {},
     "output_type": "execute_result"
    }
   ],
   "source": [
    "comb_df.shape"
   ]
  },
  {
   "cell_type": "code",
   "execution_count": 24,
   "id": "3bdb43ad-5f81-4284-a2cc-15745d018546",
   "metadata": {},
   "outputs": [
    {
     "data": {
      "text/plain": [
       "4"
      ]
     },
     "execution_count": 24,
     "metadata": {},
     "output_type": "execute_result"
    }
   ],
   "source": [
    "comb_df.duplicated().sum()"
   ]
  },
  {
   "cell_type": "code",
   "execution_count": 25,
   "id": "0afbebd8-8d2f-4ece-b436-0cb9e8a5df48",
   "metadata": {},
   "outputs": [],
   "source": [
    "comb_df.drop_duplicates(inplace= True)"
   ]
  },
  {
   "cell_type": "code",
   "execution_count": 26,
   "id": "57138c69-0054-4ebf-a542-bf982d02784b",
   "metadata": {},
   "outputs": [
    {
     "data": {
      "text/plain": [
       "(9997, 14)"
      ]
     },
     "execution_count": 26,
     "metadata": {},
     "output_type": "execute_result"
    }
   ],
   "source": [
    "comb_df.shape"
   ]
  },
  {
   "cell_type": "code",
   "execution_count": 27,
   "id": "c41d3df4-e40a-4549-8cd3-cbb67a3fe25d",
   "metadata": {},
   "outputs": [],
   "source": [
    "comb_df_copy = comb_df.copy()"
   ]
  },
  {
   "cell_type": "code",
   "execution_count": null,
   "id": "8455f4b5-0403-4f26-9130-4b651f635869",
   "metadata": {
    "scrolled": true
   },
   "outputs": [],
   "source": []
  },
  {
   "cell_type": "code",
   "execution_count": 28,
   "id": "ea9c533d-222c-4454-85a6-6eaecf4da255",
   "metadata": {},
   "outputs": [
    {
     "data": {
      "text/html": [
       "<div>\n",
       "<style scoped>\n",
       "    .dataframe tbody tr th:only-of-type {\n",
       "        vertical-align: middle;\n",
       "    }\n",
       "\n",
       "    .dataframe tbody tr th {\n",
       "        vertical-align: top;\n",
       "    }\n",
       "\n",
       "    .dataframe thead th {\n",
       "        text-align: right;\n",
       "    }\n",
       "</style>\n",
       "<table border=\"1\" class=\"dataframe\">\n",
       "  <thead>\n",
       "    <tr style=\"text-align: right;\">\n",
       "      <th></th>\n",
       "      <th>CustomerId</th>\n",
       "      <th>Surname</th>\n",
       "      <th>CreditScore</th>\n",
       "      <th>Geography</th>\n",
       "      <th>Gender</th>\n",
       "      <th>Age</th>\n",
       "      <th>Tenure_x</th>\n",
       "      <th>EstimatedSalary</th>\n",
       "      <th>Balance</th>\n",
       "      <th>NumOfProducts</th>\n",
       "      <th>HasCrCard</th>\n",
       "      <th>Tenure_y</th>\n",
       "      <th>IsActiveMember</th>\n",
       "      <th>Exited</th>\n",
       "    </tr>\n",
       "  </thead>\n",
       "  <tbody>\n",
       "    <tr>\n",
       "      <th>0</th>\n",
       "      <td>15634602</td>\n",
       "      <td>Hargrave</td>\n",
       "      <td>619</td>\n",
       "      <td>France</td>\n",
       "      <td>Female</td>\n",
       "      <td>42.0</td>\n",
       "      <td>2</td>\n",
       "      <td>€101348.88</td>\n",
       "      <td>€0.0</td>\n",
       "      <td>1</td>\n",
       "      <td>Yes</td>\n",
       "      <td>2</td>\n",
       "      <td>Yes</td>\n",
       "      <td>1</td>\n",
       "    </tr>\n",
       "    <tr>\n",
       "      <th>2</th>\n",
       "      <td>15647311</td>\n",
       "      <td>Hill</td>\n",
       "      <td>608</td>\n",
       "      <td>Spain</td>\n",
       "      <td>Female</td>\n",
       "      <td>41.0</td>\n",
       "      <td>1</td>\n",
       "      <td>€112542.58</td>\n",
       "      <td>€83807.86</td>\n",
       "      <td>1</td>\n",
       "      <td>Yes</td>\n",
       "      <td>1</td>\n",
       "      <td>Yes</td>\n",
       "      <td>0</td>\n",
       "    </tr>\n",
       "    <tr>\n",
       "      <th>3</th>\n",
       "      <td>15619304</td>\n",
       "      <td>Onio</td>\n",
       "      <td>502</td>\n",
       "      <td>France</td>\n",
       "      <td>Female</td>\n",
       "      <td>42.0</td>\n",
       "      <td>8</td>\n",
       "      <td>€113931.57</td>\n",
       "      <td>€159660.8</td>\n",
       "      <td>3</td>\n",
       "      <td>No</td>\n",
       "      <td>8</td>\n",
       "      <td>No</td>\n",
       "      <td>1</td>\n",
       "    </tr>\n",
       "    <tr>\n",
       "      <th>4</th>\n",
       "      <td>15701354</td>\n",
       "      <td>Boni</td>\n",
       "      <td>699</td>\n",
       "      <td>France</td>\n",
       "      <td>Female</td>\n",
       "      <td>39.0</td>\n",
       "      <td>1</td>\n",
       "      <td>€93826.63</td>\n",
       "      <td>€0.0</td>\n",
       "      <td>2</td>\n",
       "      <td>No</td>\n",
       "      <td>1</td>\n",
       "      <td>No</td>\n",
       "      <td>0</td>\n",
       "    </tr>\n",
       "    <tr>\n",
       "      <th>5</th>\n",
       "      <td>15737888</td>\n",
       "      <td>Mitchell</td>\n",
       "      <td>850</td>\n",
       "      <td>Spain</td>\n",
       "      <td>Female</td>\n",
       "      <td>43.0</td>\n",
       "      <td>2</td>\n",
       "      <td>€79084.1</td>\n",
       "      <td>€125510.82</td>\n",
       "      <td>1</td>\n",
       "      <td>Yes</td>\n",
       "      <td>2</td>\n",
       "      <td>Yes</td>\n",
       "      <td>0</td>\n",
       "    </tr>\n",
       "  </tbody>\n",
       "</table>\n",
       "</div>"
      ],
      "text/plain": [
       "   CustomerId   Surname  CreditScore Geography  Gender   Age  Tenure_x  \\\n",
       "0    15634602  Hargrave          619    France  Female  42.0         2   \n",
       "2    15647311      Hill          608     Spain  Female  41.0         1   \n",
       "3    15619304      Onio          502    France  Female  42.0         8   \n",
       "4    15701354      Boni          699    France  Female  39.0         1   \n",
       "5    15737888  Mitchell          850     Spain  Female  43.0         2   \n",
       "\n",
       "  EstimatedSalary     Balance  NumOfProducts HasCrCard  Tenure_y  \\\n",
       "0      €101348.88        €0.0              1       Yes         2   \n",
       "2      €112542.58   €83807.86              1       Yes         1   \n",
       "3      €113931.57   €159660.8              3        No         8   \n",
       "4       €93826.63        €0.0              2        No         1   \n",
       "5        €79084.1  €125510.82              1       Yes         2   \n",
       "\n",
       "  IsActiveMember  Exited  \n",
       "0            Yes       1  \n",
       "2            Yes       0  \n",
       "3             No       1  \n",
       "4             No       0  \n",
       "5            Yes       0  "
      ]
     },
     "execution_count": 28,
     "metadata": {},
     "output_type": "execute_result"
    }
   ],
   "source": [
    "comb_df.head()"
   ]
  },
  {
   "cell_type": "code",
   "execution_count": 29,
   "id": "5550501b-4e9c-4988-a7ba-316ad5a88e00",
   "metadata": {},
   "outputs": [
    {
     "data": {
      "text/html": [
       "<div>\n",
       "<style scoped>\n",
       "    .dataframe tbody tr th:only-of-type {\n",
       "        vertical-align: middle;\n",
       "    }\n",
       "\n",
       "    .dataframe tbody tr th {\n",
       "        vertical-align: top;\n",
       "    }\n",
       "\n",
       "    .dataframe thead th {\n",
       "        text-align: right;\n",
       "    }\n",
       "</style>\n",
       "<table border=\"1\" class=\"dataframe\">\n",
       "  <thead>\n",
       "    <tr style=\"text-align: right;\">\n",
       "      <th></th>\n",
       "      <th>CustomerId</th>\n",
       "      <th>Surname</th>\n",
       "      <th>CreditScore</th>\n",
       "      <th>Geography</th>\n",
       "      <th>Gender</th>\n",
       "      <th>Age</th>\n",
       "      <th>Tenure_x</th>\n",
       "      <th>EstimatedSalary</th>\n",
       "      <th>Balance</th>\n",
       "      <th>NumOfProducts</th>\n",
       "      <th>HasCrCard</th>\n",
       "      <th>Tenure_y</th>\n",
       "      <th>IsActiveMember</th>\n",
       "      <th>Exited</th>\n",
       "    </tr>\n",
       "  </thead>\n",
       "  <tbody>\n",
       "    <tr>\n",
       "      <th>9996</th>\n",
       "      <td>15606229</td>\n",
       "      <td>Obijiaku</td>\n",
       "      <td>771</td>\n",
       "      <td>France</td>\n",
       "      <td>Male</td>\n",
       "      <td>39.0</td>\n",
       "      <td>5</td>\n",
       "      <td>€96270.64</td>\n",
       "      <td>€0.0</td>\n",
       "      <td>2</td>\n",
       "      <td>No</td>\n",
       "      <td>5</td>\n",
       "      <td>No</td>\n",
       "      <td>0</td>\n",
       "    </tr>\n",
       "    <tr>\n",
       "      <th>9997</th>\n",
       "      <td>15569892</td>\n",
       "      <td>Johnstone</td>\n",
       "      <td>516</td>\n",
       "      <td>France</td>\n",
       "      <td>Male</td>\n",
       "      <td>35.0</td>\n",
       "      <td>10</td>\n",
       "      <td>€101699.77</td>\n",
       "      <td>€57369.61</td>\n",
       "      <td>1</td>\n",
       "      <td>Yes</td>\n",
       "      <td>10</td>\n",
       "      <td>Yes</td>\n",
       "      <td>0</td>\n",
       "    </tr>\n",
       "    <tr>\n",
       "      <th>9998</th>\n",
       "      <td>15584532</td>\n",
       "      <td>Liu</td>\n",
       "      <td>709</td>\n",
       "      <td>France</td>\n",
       "      <td>Female</td>\n",
       "      <td>36.0</td>\n",
       "      <td>7</td>\n",
       "      <td>€42085.58</td>\n",
       "      <td>€0.0</td>\n",
       "      <td>1</td>\n",
       "      <td>Yes</td>\n",
       "      <td>7</td>\n",
       "      <td>Yes</td>\n",
       "      <td>1</td>\n",
       "    </tr>\n",
       "    <tr>\n",
       "      <th>9999</th>\n",
       "      <td>15682355</td>\n",
       "      <td>Sabbatini</td>\n",
       "      <td>772</td>\n",
       "      <td>Germany</td>\n",
       "      <td>Male</td>\n",
       "      <td>42.0</td>\n",
       "      <td>3</td>\n",
       "      <td>€92888.52</td>\n",
       "      <td>€75075.31</td>\n",
       "      <td>2</td>\n",
       "      <td>No</td>\n",
       "      <td>3</td>\n",
       "      <td>No</td>\n",
       "      <td>1</td>\n",
       "    </tr>\n",
       "    <tr>\n",
       "      <th>10000</th>\n",
       "      <td>15628319</td>\n",
       "      <td>Walker</td>\n",
       "      <td>792</td>\n",
       "      <td>France</td>\n",
       "      <td>Female</td>\n",
       "      <td>28.0</td>\n",
       "      <td>4</td>\n",
       "      <td>€38190.78</td>\n",
       "      <td>€130142.79</td>\n",
       "      <td>1</td>\n",
       "      <td>No</td>\n",
       "      <td>4</td>\n",
       "      <td>No</td>\n",
       "      <td>0</td>\n",
       "    </tr>\n",
       "  </tbody>\n",
       "</table>\n",
       "</div>"
      ],
      "text/plain": [
       "       CustomerId    Surname  CreditScore Geography  Gender   Age  Tenure_x  \\\n",
       "9996     15606229   Obijiaku          771    France    Male  39.0         5   \n",
       "9997     15569892  Johnstone          516    France    Male  35.0        10   \n",
       "9998     15584532        Liu          709    France  Female  36.0         7   \n",
       "9999     15682355  Sabbatini          772   Germany    Male  42.0         3   \n",
       "10000    15628319     Walker          792    France  Female  28.0         4   \n",
       "\n",
       "      EstimatedSalary     Balance  NumOfProducts HasCrCard  Tenure_y  \\\n",
       "9996        €96270.64        €0.0              2        No         5   \n",
       "9997       €101699.77   €57369.61              1       Yes        10   \n",
       "9998        €42085.58        €0.0              1       Yes         7   \n",
       "9999        €92888.52   €75075.31              2        No         3   \n",
       "10000       €38190.78  €130142.79              1        No         4   \n",
       "\n",
       "      IsActiveMember  Exited  \n",
       "9996              No       0  \n",
       "9997             Yes       0  \n",
       "9998             Yes       1  \n",
       "9999              No       1  \n",
       "10000             No       0  "
      ]
     },
     "execution_count": 29,
     "metadata": {},
     "output_type": "execute_result"
    }
   ],
   "source": [
    "comb_df.tail()"
   ]
  },
  {
   "cell_type": "code",
   "execution_count": 30,
   "id": "876c45a6-94b9-479e-ada0-72834b66b53c",
   "metadata": {},
   "outputs": [],
   "source": [
    "comb_df['Balance']=comb_df['Balance']. str.replace('€', '')\n",
    "comb_df['EstimatedSalary']=comb_df['EstimatedSalary']. str.replace('€', '')"
   ]
  },
  {
   "cell_type": "code",
   "execution_count": 31,
   "id": "af1aea2f-3612-45b3-8cbe-d7479ffbdc71",
   "metadata": {},
   "outputs": [
    {
     "data": {
      "text/html": [
       "<div>\n",
       "<style scoped>\n",
       "    .dataframe tbody tr th:only-of-type {\n",
       "        vertical-align: middle;\n",
       "    }\n",
       "\n",
       "    .dataframe tbody tr th {\n",
       "        vertical-align: top;\n",
       "    }\n",
       "\n",
       "    .dataframe thead th {\n",
       "        text-align: right;\n",
       "    }\n",
       "</style>\n",
       "<table border=\"1\" class=\"dataframe\">\n",
       "  <thead>\n",
       "    <tr style=\"text-align: right;\">\n",
       "      <th></th>\n",
       "      <th>CustomerId</th>\n",
       "      <th>Surname</th>\n",
       "      <th>CreditScore</th>\n",
       "      <th>Geography</th>\n",
       "      <th>Gender</th>\n",
       "      <th>Age</th>\n",
       "      <th>Tenure_x</th>\n",
       "      <th>EstimatedSalary</th>\n",
       "      <th>Balance</th>\n",
       "      <th>NumOfProducts</th>\n",
       "      <th>HasCrCard</th>\n",
       "      <th>Tenure_y</th>\n",
       "      <th>IsActiveMember</th>\n",
       "      <th>Exited</th>\n",
       "    </tr>\n",
       "  </thead>\n",
       "  <tbody>\n",
       "    <tr>\n",
       "      <th>0</th>\n",
       "      <td>15634602</td>\n",
       "      <td>Hargrave</td>\n",
       "      <td>619</td>\n",
       "      <td>France</td>\n",
       "      <td>Female</td>\n",
       "      <td>42.0</td>\n",
       "      <td>2</td>\n",
       "      <td>101348.88</td>\n",
       "      <td>0.0</td>\n",
       "      <td>1</td>\n",
       "      <td>Yes</td>\n",
       "      <td>2</td>\n",
       "      <td>Yes</td>\n",
       "      <td>1</td>\n",
       "    </tr>\n",
       "    <tr>\n",
       "      <th>2</th>\n",
       "      <td>15647311</td>\n",
       "      <td>Hill</td>\n",
       "      <td>608</td>\n",
       "      <td>Spain</td>\n",
       "      <td>Female</td>\n",
       "      <td>41.0</td>\n",
       "      <td>1</td>\n",
       "      <td>112542.58</td>\n",
       "      <td>83807.86</td>\n",
       "      <td>1</td>\n",
       "      <td>Yes</td>\n",
       "      <td>1</td>\n",
       "      <td>Yes</td>\n",
       "      <td>0</td>\n",
       "    </tr>\n",
       "    <tr>\n",
       "      <th>3</th>\n",
       "      <td>15619304</td>\n",
       "      <td>Onio</td>\n",
       "      <td>502</td>\n",
       "      <td>France</td>\n",
       "      <td>Female</td>\n",
       "      <td>42.0</td>\n",
       "      <td>8</td>\n",
       "      <td>113931.57</td>\n",
       "      <td>159660.8</td>\n",
       "      <td>3</td>\n",
       "      <td>No</td>\n",
       "      <td>8</td>\n",
       "      <td>No</td>\n",
       "      <td>1</td>\n",
       "    </tr>\n",
       "    <tr>\n",
       "      <th>4</th>\n",
       "      <td>15701354</td>\n",
       "      <td>Boni</td>\n",
       "      <td>699</td>\n",
       "      <td>France</td>\n",
       "      <td>Female</td>\n",
       "      <td>39.0</td>\n",
       "      <td>1</td>\n",
       "      <td>93826.63</td>\n",
       "      <td>0.0</td>\n",
       "      <td>2</td>\n",
       "      <td>No</td>\n",
       "      <td>1</td>\n",
       "      <td>No</td>\n",
       "      <td>0</td>\n",
       "    </tr>\n",
       "    <tr>\n",
       "      <th>5</th>\n",
       "      <td>15737888</td>\n",
       "      <td>Mitchell</td>\n",
       "      <td>850</td>\n",
       "      <td>Spain</td>\n",
       "      <td>Female</td>\n",
       "      <td>43.0</td>\n",
       "      <td>2</td>\n",
       "      <td>79084.1</td>\n",
       "      <td>125510.82</td>\n",
       "      <td>1</td>\n",
       "      <td>Yes</td>\n",
       "      <td>2</td>\n",
       "      <td>Yes</td>\n",
       "      <td>0</td>\n",
       "    </tr>\n",
       "  </tbody>\n",
       "</table>\n",
       "</div>"
      ],
      "text/plain": [
       "   CustomerId   Surname  CreditScore Geography  Gender   Age  Tenure_x  \\\n",
       "0    15634602  Hargrave          619    France  Female  42.0         2   \n",
       "2    15647311      Hill          608     Spain  Female  41.0         1   \n",
       "3    15619304      Onio          502    France  Female  42.0         8   \n",
       "4    15701354      Boni          699    France  Female  39.0         1   \n",
       "5    15737888  Mitchell          850     Spain  Female  43.0         2   \n",
       "\n",
       "  EstimatedSalary    Balance  NumOfProducts HasCrCard  Tenure_y  \\\n",
       "0       101348.88        0.0              1       Yes         2   \n",
       "2       112542.58   83807.86              1       Yes         1   \n",
       "3       113931.57   159660.8              3        No         8   \n",
       "4        93826.63        0.0              2        No         1   \n",
       "5         79084.1  125510.82              1       Yes         2   \n",
       "\n",
       "  IsActiveMember  Exited  \n",
       "0            Yes       1  \n",
       "2            Yes       0  \n",
       "3             No       1  \n",
       "4             No       0  \n",
       "5            Yes       0  "
      ]
     },
     "execution_count": 31,
     "metadata": {},
     "output_type": "execute_result"
    }
   ],
   "source": [
    "comb_df.head()"
   ]
  },
  {
   "cell_type": "code",
   "execution_count": 32,
   "id": "ada71a47-b903-46c1-9a4c-4207c55dba7a",
   "metadata": {},
   "outputs": [
    {
     "data": {
      "text/html": [
       "<div>\n",
       "<style scoped>\n",
       "    .dataframe tbody tr th:only-of-type {\n",
       "        vertical-align: middle;\n",
       "    }\n",
       "\n",
       "    .dataframe tbody tr th {\n",
       "        vertical-align: top;\n",
       "    }\n",
       "\n",
       "    .dataframe thead th {\n",
       "        text-align: right;\n",
       "    }\n",
       "</style>\n",
       "<table border=\"1\" class=\"dataframe\">\n",
       "  <thead>\n",
       "    <tr style=\"text-align: right;\">\n",
       "      <th></th>\n",
       "      <th>CustomerId</th>\n",
       "      <th>Surname</th>\n",
       "      <th>CreditScore</th>\n",
       "      <th>Geography</th>\n",
       "      <th>Gender</th>\n",
       "      <th>Age</th>\n",
       "      <th>Tenure_x</th>\n",
       "      <th>EstimatedSalary</th>\n",
       "      <th>Balance</th>\n",
       "      <th>NumOfProducts</th>\n",
       "      <th>HasCrCard</th>\n",
       "      <th>Tenure_y</th>\n",
       "      <th>IsActiveMember</th>\n",
       "      <th>Exited</th>\n",
       "    </tr>\n",
       "  </thead>\n",
       "  <tbody>\n",
       "    <tr>\n",
       "      <th>9996</th>\n",
       "      <td>15606229</td>\n",
       "      <td>Obijiaku</td>\n",
       "      <td>771</td>\n",
       "      <td>France</td>\n",
       "      <td>Male</td>\n",
       "      <td>39.0</td>\n",
       "      <td>5</td>\n",
       "      <td>96270.64</td>\n",
       "      <td>0.0</td>\n",
       "      <td>2</td>\n",
       "      <td>No</td>\n",
       "      <td>5</td>\n",
       "      <td>No</td>\n",
       "      <td>0</td>\n",
       "    </tr>\n",
       "    <tr>\n",
       "      <th>9997</th>\n",
       "      <td>15569892</td>\n",
       "      <td>Johnstone</td>\n",
       "      <td>516</td>\n",
       "      <td>France</td>\n",
       "      <td>Male</td>\n",
       "      <td>35.0</td>\n",
       "      <td>10</td>\n",
       "      <td>101699.77</td>\n",
       "      <td>57369.61</td>\n",
       "      <td>1</td>\n",
       "      <td>Yes</td>\n",
       "      <td>10</td>\n",
       "      <td>Yes</td>\n",
       "      <td>0</td>\n",
       "    </tr>\n",
       "    <tr>\n",
       "      <th>9998</th>\n",
       "      <td>15584532</td>\n",
       "      <td>Liu</td>\n",
       "      <td>709</td>\n",
       "      <td>France</td>\n",
       "      <td>Female</td>\n",
       "      <td>36.0</td>\n",
       "      <td>7</td>\n",
       "      <td>42085.58</td>\n",
       "      <td>0.0</td>\n",
       "      <td>1</td>\n",
       "      <td>Yes</td>\n",
       "      <td>7</td>\n",
       "      <td>Yes</td>\n",
       "      <td>1</td>\n",
       "    </tr>\n",
       "    <tr>\n",
       "      <th>9999</th>\n",
       "      <td>15682355</td>\n",
       "      <td>Sabbatini</td>\n",
       "      <td>772</td>\n",
       "      <td>Germany</td>\n",
       "      <td>Male</td>\n",
       "      <td>42.0</td>\n",
       "      <td>3</td>\n",
       "      <td>92888.52</td>\n",
       "      <td>75075.31</td>\n",
       "      <td>2</td>\n",
       "      <td>No</td>\n",
       "      <td>3</td>\n",
       "      <td>No</td>\n",
       "      <td>1</td>\n",
       "    </tr>\n",
       "    <tr>\n",
       "      <th>10000</th>\n",
       "      <td>15628319</td>\n",
       "      <td>Walker</td>\n",
       "      <td>792</td>\n",
       "      <td>France</td>\n",
       "      <td>Female</td>\n",
       "      <td>28.0</td>\n",
       "      <td>4</td>\n",
       "      <td>38190.78</td>\n",
       "      <td>130142.79</td>\n",
       "      <td>1</td>\n",
       "      <td>No</td>\n",
       "      <td>4</td>\n",
       "      <td>No</td>\n",
       "      <td>0</td>\n",
       "    </tr>\n",
       "  </tbody>\n",
       "</table>\n",
       "</div>"
      ],
      "text/plain": [
       "       CustomerId    Surname  CreditScore Geography  Gender   Age  Tenure_x  \\\n",
       "9996     15606229   Obijiaku          771    France    Male  39.0         5   \n",
       "9997     15569892  Johnstone          516    France    Male  35.0        10   \n",
       "9998     15584532        Liu          709    France  Female  36.0         7   \n",
       "9999     15682355  Sabbatini          772   Germany    Male  42.0         3   \n",
       "10000    15628319     Walker          792    France  Female  28.0         4   \n",
       "\n",
       "      EstimatedSalary    Balance  NumOfProducts HasCrCard  Tenure_y  \\\n",
       "9996         96270.64        0.0              2        No         5   \n",
       "9997        101699.77   57369.61              1       Yes        10   \n",
       "9998         42085.58        0.0              1       Yes         7   \n",
       "9999         92888.52   75075.31              2        No         3   \n",
       "10000        38190.78  130142.79              1        No         4   \n",
       "\n",
       "      IsActiveMember  Exited  \n",
       "9996              No       0  \n",
       "9997             Yes       0  \n",
       "9998             Yes       1  \n",
       "9999              No       1  \n",
       "10000             No       0  "
      ]
     },
     "execution_count": 32,
     "metadata": {},
     "output_type": "execute_result"
    }
   ],
   "source": [
    "comb_df.tail()"
   ]
  },
  {
   "cell_type": "code",
   "execution_count": 33,
   "id": "b1b3f9fa-d22b-4f96-99cc-0f10c45901f7",
   "metadata": {},
   "outputs": [
    {
     "name": "stdout",
     "output_type": "stream",
     "text": [
      "<class 'pandas.core.frame.DataFrame'>\n",
      "Index: 9997 entries, 0 to 10000\n",
      "Data columns (total 14 columns):\n",
      " #   Column           Non-Null Count  Dtype  \n",
      "---  ------           --------------  -----  \n",
      " 0   CustomerId       9997 non-null   int64  \n",
      " 1   Surname          9997 non-null   object \n",
      " 2   CreditScore      9997 non-null   int64  \n",
      " 3   Geography        9997 non-null   object \n",
      " 4   Gender           9997 non-null   object \n",
      " 5   Age              9997 non-null   float64\n",
      " 6   Tenure_x         9997 non-null   int64  \n",
      " 7   EstimatedSalary  9997 non-null   object \n",
      " 8   Balance          9997 non-null   object \n",
      " 9   NumOfProducts    9997 non-null   int64  \n",
      " 10  HasCrCard        9997 non-null   object \n",
      " 11  Tenure_y         9997 non-null   int64  \n",
      " 12  IsActiveMember   9997 non-null   object \n",
      " 13  Exited           9997 non-null   int64  \n",
      "dtypes: float64(1), int64(6), object(7)\n",
      "memory usage: 1.1+ MB\n"
     ]
    }
   ],
   "source": [
    "comb_df.info()"
   ]
  },
  {
   "cell_type": "code",
   "execution_count": 34,
   "id": "5ae75e56-4c1c-4220-9cb6-0bcdae3fbb6c",
   "metadata": {},
   "outputs": [],
   "source": [
    "## Change age and balance data type\n",
    "\n",
    "comb_df['Age']=comb_df['Age'].astype(int)\n",
    "comb_df['EstimatedSalary']=comb_df['EstimatedSalary'].astype(float)\n",
    "comb_df['Balance']=comb_df['Balance'].astype(float)"
   ]
  },
  {
   "cell_type": "code",
   "execution_count": 35,
   "id": "9048ffdd-6cab-4dd4-a9b7-c4af1ac36deb",
   "metadata": {},
   "outputs": [],
   "source": [
    "## Create a new feature columnns\n",
    "comb_df['Balance_Segment'] = pd.cut(comb_df['Balance'], bins=[0, 1000, 5000, 10000, 50000, 100000, 200000, float('inf')],\n",
    "                        labels=['Low', 'Medium', 'High', 'Very High', 'Elite', 'Platinum','Legendary'], include_lowest = True)\n",
    "                        "
   ]
  },
  {
   "cell_type": "code",
   "execution_count": 36,
   "id": "3f39443d-3374-4f66-878b-38d0450fb0a5",
   "metadata": {},
   "outputs": [
    {
     "data": {
      "text/html": [
       "<div>\n",
       "<style scoped>\n",
       "    .dataframe tbody tr th:only-of-type {\n",
       "        vertical-align: middle;\n",
       "    }\n",
       "\n",
       "    .dataframe tbody tr th {\n",
       "        vertical-align: top;\n",
       "    }\n",
       "\n",
       "    .dataframe thead th {\n",
       "        text-align: right;\n",
       "    }\n",
       "</style>\n",
       "<table border=\"1\" class=\"dataframe\">\n",
       "  <thead>\n",
       "    <tr style=\"text-align: right;\">\n",
       "      <th></th>\n",
       "      <th>CustomerId</th>\n",
       "      <th>Surname</th>\n",
       "      <th>CreditScore</th>\n",
       "      <th>Geography</th>\n",
       "      <th>Gender</th>\n",
       "      <th>Age</th>\n",
       "      <th>Tenure_x</th>\n",
       "      <th>EstimatedSalary</th>\n",
       "      <th>Balance</th>\n",
       "      <th>NumOfProducts</th>\n",
       "      <th>HasCrCard</th>\n",
       "      <th>Tenure_y</th>\n",
       "      <th>IsActiveMember</th>\n",
       "      <th>Exited</th>\n",
       "      <th>Balance_Segment</th>\n",
       "    </tr>\n",
       "  </thead>\n",
       "  <tbody>\n",
       "    <tr>\n",
       "      <th>0</th>\n",
       "      <td>15634602</td>\n",
       "      <td>Hargrave</td>\n",
       "      <td>619</td>\n",
       "      <td>France</td>\n",
       "      <td>Female</td>\n",
       "      <td>42</td>\n",
       "      <td>2</td>\n",
       "      <td>101348.88</td>\n",
       "      <td>0.00</td>\n",
       "      <td>1</td>\n",
       "      <td>Yes</td>\n",
       "      <td>2</td>\n",
       "      <td>Yes</td>\n",
       "      <td>1</td>\n",
       "      <td>Low</td>\n",
       "    </tr>\n",
       "    <tr>\n",
       "      <th>2</th>\n",
       "      <td>15647311</td>\n",
       "      <td>Hill</td>\n",
       "      <td>608</td>\n",
       "      <td>Spain</td>\n",
       "      <td>Female</td>\n",
       "      <td>41</td>\n",
       "      <td>1</td>\n",
       "      <td>112542.58</td>\n",
       "      <td>83807.86</td>\n",
       "      <td>1</td>\n",
       "      <td>Yes</td>\n",
       "      <td>1</td>\n",
       "      <td>Yes</td>\n",
       "      <td>0</td>\n",
       "      <td>Elite</td>\n",
       "    </tr>\n",
       "    <tr>\n",
       "      <th>3</th>\n",
       "      <td>15619304</td>\n",
       "      <td>Onio</td>\n",
       "      <td>502</td>\n",
       "      <td>France</td>\n",
       "      <td>Female</td>\n",
       "      <td>42</td>\n",
       "      <td>8</td>\n",
       "      <td>113931.57</td>\n",
       "      <td>159660.80</td>\n",
       "      <td>3</td>\n",
       "      <td>No</td>\n",
       "      <td>8</td>\n",
       "      <td>No</td>\n",
       "      <td>1</td>\n",
       "      <td>Platinum</td>\n",
       "    </tr>\n",
       "    <tr>\n",
       "      <th>4</th>\n",
       "      <td>15701354</td>\n",
       "      <td>Boni</td>\n",
       "      <td>699</td>\n",
       "      <td>France</td>\n",
       "      <td>Female</td>\n",
       "      <td>39</td>\n",
       "      <td>1</td>\n",
       "      <td>93826.63</td>\n",
       "      <td>0.00</td>\n",
       "      <td>2</td>\n",
       "      <td>No</td>\n",
       "      <td>1</td>\n",
       "      <td>No</td>\n",
       "      <td>0</td>\n",
       "      <td>Low</td>\n",
       "    </tr>\n",
       "    <tr>\n",
       "      <th>5</th>\n",
       "      <td>15737888</td>\n",
       "      <td>Mitchell</td>\n",
       "      <td>850</td>\n",
       "      <td>Spain</td>\n",
       "      <td>Female</td>\n",
       "      <td>43</td>\n",
       "      <td>2</td>\n",
       "      <td>79084.10</td>\n",
       "      <td>125510.82</td>\n",
       "      <td>1</td>\n",
       "      <td>Yes</td>\n",
       "      <td>2</td>\n",
       "      <td>Yes</td>\n",
       "      <td>0</td>\n",
       "      <td>Platinum</td>\n",
       "    </tr>\n",
       "  </tbody>\n",
       "</table>\n",
       "</div>"
      ],
      "text/plain": [
       "   CustomerId   Surname  CreditScore Geography  Gender  Age  Tenure_x  \\\n",
       "0    15634602  Hargrave          619    France  Female   42         2   \n",
       "2    15647311      Hill          608     Spain  Female   41         1   \n",
       "3    15619304      Onio          502    France  Female   42         8   \n",
       "4    15701354      Boni          699    France  Female   39         1   \n",
       "5    15737888  Mitchell          850     Spain  Female   43         2   \n",
       "\n",
       "   EstimatedSalary    Balance  NumOfProducts HasCrCard  Tenure_y  \\\n",
       "0        101348.88       0.00              1       Yes         2   \n",
       "2        112542.58   83807.86              1       Yes         1   \n",
       "3        113931.57  159660.80              3        No         8   \n",
       "4         93826.63       0.00              2        No         1   \n",
       "5         79084.10  125510.82              1       Yes         2   \n",
       "\n",
       "  IsActiveMember  Exited Balance_Segment  \n",
       "0            Yes       1             Low  \n",
       "2            Yes       0           Elite  \n",
       "3             No       1        Platinum  \n",
       "4             No       0             Low  \n",
       "5            Yes       0        Platinum  "
      ]
     },
     "execution_count": 36,
     "metadata": {},
     "output_type": "execute_result"
    }
   ],
   "source": [
    "comb_df.head()"
   ]
  },
  {
   "cell_type": "code",
   "execution_count": 37,
   "id": "2e5e73b9-7d88-44d1-9315-a6018ae55bb3",
   "metadata": {},
   "outputs": [
    {
     "name": "stdout",
     "output_type": "stream",
     "text": [
      "<class 'pandas.core.frame.DataFrame'>\n",
      "Index: 9997 entries, 0 to 10000\n",
      "Data columns (total 15 columns):\n",
      " #   Column           Non-Null Count  Dtype   \n",
      "---  ------           --------------  -----   \n",
      " 0   CustomerId       9997 non-null   int64   \n",
      " 1   Surname          9997 non-null   object  \n",
      " 2   CreditScore      9997 non-null   int64   \n",
      " 3   Geography        9997 non-null   object  \n",
      " 4   Gender           9997 non-null   object  \n",
      " 5   Age              9997 non-null   int32   \n",
      " 6   Tenure_x         9997 non-null   int64   \n",
      " 7   EstimatedSalary  9997 non-null   float64 \n",
      " 8   Balance          9997 non-null   float64 \n",
      " 9   NumOfProducts    9997 non-null   int64   \n",
      " 10  HasCrCard        9997 non-null   object  \n",
      " 11  Tenure_y         9997 non-null   int64   \n",
      " 12  IsActiveMember   9997 non-null   object  \n",
      " 13  Exited           9997 non-null   int64   \n",
      " 14  Balance_Segment  9997 non-null   category\n",
      "dtypes: category(1), float64(2), int32(1), int64(6), object(5)\n",
      "memory usage: 1.1+ MB\n"
     ]
    }
   ],
   "source": [
    "comb_df.info()"
   ]
  },
  {
   "cell_type": "code",
   "execution_count": 38,
   "id": "3107b3e6-2d22-4cac-9e6e-b99a7f0189d4",
   "metadata": {},
   "outputs": [],
   "source": [
    "## Categorize the columns into categorical and numerical\n",
    "\n",
    "cat_columns = [i for i in comb_df.select_dtypes(include=['object', 'category']).columns]\n",
    "num_columns = [i for i in comb_df.select_dtypes(include=['int64', 'float64']).columns]"
   ]
  },
  {
   "cell_type": "code",
   "execution_count": 39,
   "id": "7a506cc0-07ce-4e2c-8f52-01af0eef086f",
   "metadata": {},
   "outputs": [
    {
     "name": "stdout",
     "output_type": "stream",
     "text": [
      "['Surname', 'Geography', 'Gender', 'HasCrCard', 'IsActiveMember', 'Balance_Segment']\n"
     ]
    }
   ],
   "source": [
    "print(cat_columns)"
   ]
  },
  {
   "cell_type": "code",
   "execution_count": 40,
   "id": "a78d7bb1-f96e-471d-ab53-00b3445c0030",
   "metadata": {},
   "outputs": [
    {
     "name": "stdout",
     "output_type": "stream",
     "text": [
      "['CustomerId', 'CreditScore', 'Tenure_x', 'EstimatedSalary', 'Balance', 'NumOfProducts', 'Tenure_y', 'Exited']\n"
     ]
    }
   ],
   "source": [
    "print(num_columns)"
   ]
  },
  {
   "cell_type": "code",
   "execution_count": 41,
   "id": "de8d360a-f3db-4ce9-b176-c683df116dd2",
   "metadata": {},
   "outputs": [
    {
     "data": {
      "image/png": "[encoded data removed]",
      "text/plain": [
       "<Figure size 640x480 with 1 Axes>"
      ]
     },
     "metadata": {},
     "output_type": "display_data"
    },
    {
     "data": {
      "image/png": "[encoded data removed]",
      "text/plain": [
       "<Figure size 640x480 with 1 Axes>"
      ]
     },
     "metadata": {},
     "output_type": "display_data"
    },
    {
     "data": {
      "image/png": "[encoded data removed]",
      "text/plain": [
       "<Figure size 640x480 with 1 Axes>"
      ]
     },
     "metadata": {},
     "output_type": "display_data"
    },
    {
     "data": {
      "image/png": "[encoded data removed]",
      "text/plain": [
       "<Figure size 640x480 with 1 Axes>"
      ]
     },
     "metadata": {},
     "output_type": "display_data"
    },
    {
     "data": {
      "image/png": "[encoded data removed]",
      "text/plain": [
       "<Figure size 640x480 with 1 Axes>"
      ]
     },
     "metadata": {},
     "output_type": "display_data"
    },
    {
     "data": {
      "image/png": "[encoded data removed]",
      "text/plain": [
       "<Figure size 640x480 with 1 Axes>"
      ]
     },
     "metadata": {},
     "output_type": "display_data"
    },
    {
     "data": {
      "image/png": "[encoded data removed]",
      "text/plain": [
       "<Figure size 640x480 with 1 Axes>"
      ]
     },
     "metadata": {},
     "output_type": "display_data"
    },
    {
     "data": {
      "image/png": "[encoded data removed]",
      "text/plain": [
       "<Figure size 640x480 with 1 Axes>"
      ]
     },
     "metadata": {},
     "output_type": "display_data"
    }
   ],
   "source": [
    "for column in num_columns:\n",
    "    plt.hist(comb_df[column], color='grey', edgecolor='black')\n",
    "    plt.title(f'Histogram of {column}')\n",
    "    plt.show()"
   ]
  },
  {
   "cell_type": "code",
   "execution_count": 42,
   "id": "6061ce3f-2a9f-421b-82df-daa11323f6bc",
   "metadata": {},
   "outputs": [
    {
     "data": {
      "text/plain": [
       "<Figure size 2000x1000 with 0 Axes>"
      ]
     },
     "metadata": {},
     "output_type": "display_data"
    }
   ],
   "source": [
    "## Data Analysis/Exploration \n",
    "\n",
    "# helper functions \n",
    "\n",
    "# generate barplot\n",
    "plt.figure(figsize=(20,10))\n",
    "\n",
    "def generate_bar_plot(x,y,xlabel, ylabel):\n",
    "    plt.bar(x, y, color='grey', edgecolor='black')\n",
    "    plt.title(f'Plot of {ylabel} vs {xlabel}')\n",
    "    plt.xlabel(xlabel)\n",
    "    plt.ylabel(ylabel)\n",
    "    plt.show()\n",
    "    \n",
    "def generate_line_chart(x, y, xlabel,ylabel,data,color='grey',estimator=sum):\n",
    "    sb.lineplot(x=x,y=y,markers=True, dashes=False, data=data,estimator=estimator, color=color)\n",
    "    plt.xlabel(xlabel)\n",
    "    plt.ylabel(ylabel)\n",
    "    plt.title(f'Plot of {ylabel} with changes in {xlabel}')\n",
    "    plt.show()"
   ]
  },
  {
   "cell_type": "markdown",
   "id": "86ce28bb-f40b-45d5-9827-768cda92c777",
   "metadata": {},
   "source": [
    "1. Demographic Analysis"
   ]
  },
  {
   "cell_type": "code",
   "execution_count": 44,
   "id": "20f0920c-31a7-4a18-bad8-9f292001339f",
   "metadata": {},
   "outputs": [
    {
     "data": {
      "text/plain": [
       "Text(0.5, 1.0, 'Analyze the distribution of Customers')"
      ]
     },
     "execution_count": 44,
     "metadata": {},
     "output_type": "execute_result"
    },
    {
     "data": {
      "image/png": "[encoded data removed]",
      "text/plain": [
       "<Figure size 640x480 with 1 Axes>"
      ]
     },
     "metadata": {},
     "output_type": "display_data"
    }
   ],
   "source": [
    "sb.barplot(y='Age', x='Geography', hue='Gender', data=comb_df)\n",
    "plt.title('Analyze the distribution of Customers')"
   ]
  },
  {
   "cell_type": "markdown",
   "id": "6528a9a8-60b4-4f26-8bdf-fc7b89e177a3",
   "metadata": {},
   "source": [
    "Result: Germany has more women than men closer to the  age 40, followed by Spain, then France"
   ]
  },
  {
   "cell_type": "code",
   "execution_count": 46,
   "id": "9afd76ca-e434-4864-8c07-a0544e768990",
   "metadata": {},
   "outputs": [
    {
     "data": {
      "image/png": "[encoded data removed]",
      "text/plain": [
       "<Figure size 640x480 with 1 Axes>"
      ]
     },
     "metadata": {},
     "output_type": "display_data"
    },
    {
     "data": {
      "image/png": "[encoded data removed]",
      "text/plain": [
       "<Figure size 640x480 with 1 Axes>"
      ]
     },
     "metadata": {},
     "output_type": "display_data"
    },
    {
     "data": {
      "image/png": "[encoded data removed]",
      "text/plain": [
       "<Figure size 640x480 with 1 Axes>"
      ]
     },
     "metadata": {},
     "output_type": "display_data"
    },
    {
     "data": {
      "image/png": "[encoded data removed]",
      "text/plain": [
       "<Figure size 640x480 with 1 Axes>"
      ]
     },
     "metadata": {},
     "output_type": "display_data"
    },
    {
     "data": {
      "image/png": "[encoded data removed]",
      "text/plain": [
       "<Figure size 640x480 with 1 Axes>"
      ]
     },
     "metadata": {},
     "output_type": "display_data"
    },
    {
     "data": {
      "image/png": "[encoded data removed]",
      "text/plain": [
       "<Figure size 640x480 with 1 Axes>"
      ]
     },
     "metadata": {},
     "output_type": "display_data"
    }
   ],
   "source": [
    "\n",
    "for column in cat_columns:\n",
    "    sorted_categories = comb_df[column].value_counts().index\n",
    "    sb.countplot(y=column, data=comb_df, order=sorted_categories, palette='Greys_r') \n",
    "    plt.title(f'Countplot of {column}')\n",
    "    plt.show()"
   ]
  },
  {
   "cell_type": "code",
   "execution_count": 47,
   "id": "4ba01c82-0fa5-4df0-a4fd-c90353d6287e",
   "metadata": {},
   "outputs": [
    {
     "name": "stdout",
     "output_type": "stream",
     "text": [
      "<class 'pandas.core.frame.DataFrame'>\n",
      "Index: 9997 entries, 0 to 10000\n",
      "Data columns (total 15 columns):\n",
      " #   Column           Non-Null Count  Dtype   \n",
      "---  ------           --------------  -----   \n",
      " 0   CustomerId       9997 non-null   int64   \n",
      " 1   Surname          9997 non-null   object  \n",
      " 2   CreditScore      9997 non-null   int64   \n",
      " 3   Geography        9997 non-null   object  \n",
      " 4   Gender           9997 non-null   object  \n",
      " 5   Age              9997 non-null   int32   \n",
      " 6   Tenure_x         9997 non-null   int64   \n",
      " 7   EstimatedSalary  9997 non-null   float64 \n",
      " 8   Balance          9997 non-null   float64 \n",
      " 9   NumOfProducts    9997 non-null   int64   \n",
      " 10  HasCrCard        9997 non-null   object  \n",
      " 11  Tenure_y         9997 non-null   int64   \n",
      " 12  IsActiveMember   9997 non-null   object  \n",
      " 13  Exited           9997 non-null   int64   \n",
      " 14  Balance_Segment  9997 non-null   category\n",
      "dtypes: category(1), float64(2), int32(1), int64(6), object(5)\n",
      "memory usage: 1.4+ MB\n"
     ]
    }
   ],
   "source": [
    "comb_df.info()"
   ]
  },
  {
   "cell_type": "code",
   "execution_count": 48,
   "id": "d26b8d74-578d-49c5-a10e-21ce5b301dcd",
   "metadata": {},
   "outputs": [],
   "source": [
    "comb_df.drop('Tenure_x', axis ='columns', inplace=True)"
   ]
  },
  {
   "cell_type": "code",
   "execution_count": 49,
   "id": "31e6a77c-923c-41e1-97fa-dc80cdc0f7b0",
   "metadata": {},
   "outputs": [
    {
     "name": "stdout",
     "output_type": "stream",
     "text": [
      "<class 'pandas.core.frame.DataFrame'>\n",
      "Index: 9997 entries, 0 to 10000\n",
      "Data columns (total 14 columns):\n",
      " #   Column           Non-Null Count  Dtype   \n",
      "---  ------           --------------  -----   \n",
      " 0   CustomerId       9997 non-null   int64   \n",
      " 1   Surname          9997 non-null   object  \n",
      " 2   CreditScore      9997 non-null   int64   \n",
      " 3   Geography        9997 non-null   object  \n",
      " 4   Gender           9997 non-null   object  \n",
      " 5   Age              9997 non-null   int32   \n",
      " 6   EstimatedSalary  9997 non-null   float64 \n",
      " 7   Balance          9997 non-null   float64 \n",
      " 8   NumOfProducts    9997 non-null   int64   \n",
      " 9   HasCrCard        9997 non-null   object  \n",
      " 10  Tenure_y         9997 non-null   int64   \n",
      " 11  IsActiveMember   9997 non-null   object  \n",
      " 12  Exited           9997 non-null   int64   \n",
      " 13  Balance_Segment  9997 non-null   category\n",
      "dtypes: category(1), float64(2), int32(1), int64(5), object(5)\n",
      "memory usage: 1.3+ MB\n"
     ]
    }
   ],
   "source": [
    "comb_df.info()"
   ]
  },
  {
   "cell_type": "code",
   "execution_count": 50,
   "id": "5e525e6c-c47c-42fa-b013-b323d33c3e4e",
   "metadata": {},
   "outputs": [],
   "source": [
    "## 1b Any demographic segments"
   ]
  },
  {
   "cell_type": "code",
   "execution_count": 51,
   "id": "ac05ce7a-9ba2-42ed-a77d-84a4184e07f0",
   "metadata": {},
   "outputs": [
    {
     "data": {
      "text/plain": [
       "Text(0.5, 1.0, 'Demographic Segments')"
      ]
     },
     "execution_count": 51,
     "metadata": {},
     "output_type": "execute_result"
    },
    {
     "data": {
      "image/png": "[encoded data removed]",
      "text/plain": [
       "<Figure size 640x480 with 1 Axes>"
      ]
     },
     "metadata": {},
     "output_type": "display_data"
    }
   ],
   "source": [
    "sb.barplot(y='CreditScore', x = 'Balance_Segment', hue='Gender', data=comb_df)\n",
    "plt.title('Demographic Segments')"
   ]
  },
  {
   "cell_type": "code",
   "execution_count": 52,
   "id": "9b0eedbc-980e-4e70-9563-acecd27076c7",
   "metadata": {},
   "outputs": [],
   "source": [
    "## Result - Blue label is for the females and the orange label for the males. The females are alone in the medium category. There no male or females in the high category all other categories the female and male are doing well with the exception of lengendary were the females are leading  followed by the males"
   ]
  },
  {
   "cell_type": "code",
   "execution_count": 53,
   "id": "5f0c31c3-e07f-4bb8-b0a2-14b68d0898b7",
   "metadata": {},
   "outputs": [],
   "source": [
    "# 2. Customer Engagement Patterns:"
   ]
  },
  {
   "cell_type": "code",
   "execution_count": 54,
   "id": "b21eb051-ba4c-44bc-9b2d-6c836e012c73",
   "metadata": {},
   "outputs": [],
   "source": [
    "comb_df.rename(columns={'Tenure_y': 'Customer tenure',}, inplace=True)"
   ]
  },
  {
   "cell_type": "code",
   "execution_count": 55,
   "id": "7e2f5362-0b3e-4d23-a351-4f23b5a81291",
   "metadata": {},
   "outputs": [
    {
     "name": "stdout",
     "output_type": "stream",
     "text": [
      "<class 'pandas.core.frame.DataFrame'>\n",
      "Index: 9997 entries, 0 to 10000\n",
      "Data columns (total 14 columns):\n",
      " #   Column           Non-Null Count  Dtype   \n",
      "---  ------           --------------  -----   \n",
      " 0   CustomerId       9997 non-null   int64   \n",
      " 1   Surname          9997 non-null   object  \n",
      " 2   CreditScore      9997 non-null   int64   \n",
      " 3   Geography        9997 non-null   object  \n",
      " 4   Gender           9997 non-null   object  \n",
      " 5   Age              9997 non-null   int32   \n",
      " 6   EstimatedSalary  9997 non-null   float64 \n",
      " 7   Balance          9997 non-null   float64 \n",
      " 8   NumOfProducts    9997 non-null   int64   \n",
      " 9   HasCrCard        9997 non-null   object  \n",
      " 10  Customer tenure  9997 non-null   int64   \n",
      " 11  IsActiveMember   9997 non-null   object  \n",
      " 12  Exited           9997 non-null   int64   \n",
      " 13  Balance_Segment  9997 non-null   category\n",
      "dtypes: category(1), float64(2), int32(1), int64(5), object(5)\n",
      "memory usage: 1.3+ MB\n"
     ]
    }
   ],
   "source": [
    "comb_df.info()"
   ]
  },
  {
   "cell_type": "code",
   "execution_count": 56,
   "id": "af728eb8-f94d-4167-9e26-c5a2e96508d7",
   "metadata": {},
   "outputs": [
    {
     "data": {
      "text/plain": [
       "Text(0.5, 1.0, 'Customer tenure and engagement')"
      ]
     },
     "execution_count": 56,
     "metadata": {},
     "output_type": "execute_result"
    },
    {
     "data": {
      "image/png": "[encoded data removed]",
      "text/plain": [
       "<Figure size 640x480 with 1 Axes>"
      ]
     },
     "metadata": {},
     "output_type": "display_data"
    }
   ],
   "source": [
    "sb.barplot(x='NumOfProducts', y='HasCrCard', hue='IsActiveMember', data=comb_df)\n",
    "plt.title('Customer tenure and engagement')"
   ]
  },
  {
   "cell_type": "code",
   "execution_count": 57,
   "id": "6a7f6f22-c5ea-47fc-b43a-1eb0d6eccfec",
   "metadata": {},
   "outputs": [],
   "source": [
    "\n",
    "df_rating_count = comb_df.groupby('NumOfProducts')[['Balance_Segment']].count().sort_values(by='NumOfProducts')"
   ]
  },
  {
   "cell_type": "code",
   "execution_count": 58,
   "id": "8499d2d8-a4f9-4745-9ef4-2004ff2befc2",
   "metadata": {},
   "outputs": [
    {
     "data": {
      "text/html": [
       "<div>\n",
       "<style scoped>\n",
       "    .dataframe tbody tr th:only-of-type {\n",
       "        vertical-align: middle;\n",
       "    }\n",
       "\n",
       "    .dataframe tbody tr th {\n",
       "        vertical-align: top;\n",
       "    }\n",
       "\n",
       "    .dataframe thead th {\n",
       "        text-align: right;\n",
       "    }\n",
       "</style>\n",
       "<table border=\"1\" class=\"dataframe\">\n",
       "  <thead>\n",
       "    <tr style=\"text-align: right;\">\n",
       "      <th></th>\n",
       "      <th>Balance_Segment</th>\n",
       "    </tr>\n",
       "    <tr>\n",
       "      <th>NumOfProducts</th>\n",
       "      <th></th>\n",
       "    </tr>\n",
       "  </thead>\n",
       "  <tbody>\n",
       "    <tr>\n",
       "      <th>1</th>\n",
       "      <td>5081</td>\n",
       "    </tr>\n",
       "    <tr>\n",
       "      <th>2</th>\n",
       "      <td>4590</td>\n",
       "    </tr>\n",
       "    <tr>\n",
       "      <th>3</th>\n",
       "      <td>266</td>\n",
       "    </tr>\n",
       "    <tr>\n",
       "      <th>4</th>\n",
       "      <td>60</td>\n",
       "    </tr>\n",
       "  </tbody>\n",
       "</table>\n",
       "</div>"
      ],
      "text/plain": [
       "               Balance_Segment\n",
       "NumOfProducts                 \n",
       "1                         5081\n",
       "2                         4590\n",
       "3                          266\n",
       "4                           60"
      ]
     },
     "execution_count": 58,
     "metadata": {},
     "output_type": "execute_result"
    }
   ],
   "source": [
    "df_rating_count"
   ]
  },
  {
   "cell_type": "code",
   "execution_count": 59,
   "id": "e8f1d244-c06f-4804-9b5e-571b0c6acb5c",
   "metadata": {},
   "outputs": [
    {
     "data": {
      "text/plain": [
       "Text(0.5, 1.0, 'Tenure on Customer behavior')"
      ]
     },
     "execution_count": 59,
     "metadata": {},
     "output_type": "execute_result"
    },
    {
     "data": {
      "image/png": "[encoded data removed]",
      "text/plain": [
       "<Figure size 640x480 with 1 Axes>"
      ]
     },
     "metadata": {},
     "output_type": "display_data"
    }
   ],
   "source": [
    "sb.barplot(y='Customer tenure', x='Balance_Segment', hue='NumOfProducts', data=comb_df)\n",
    "plt.title('Tenure on Customer behavior')"
   ]
  },
  {
   "cell_type": "code",
   "execution_count": 60,
   "id": "3de8af16-e117-4bdc-9777-a21e224d1450",
   "metadata": {},
   "outputs": [],
   "source": [
    "## Result: There are four products, longer tenure customers do not hold more products"
   ]
  },
  {
   "cell_type": "code",
   "execution_count": 61,
   "id": "f6e532e7-a671-4382-8ca8-f09cd85e8c54",
   "metadata": {},
   "outputs": [],
   "source": [
    "## 3. Financial Performance\n",
    "# a. Credit Score distribution:"
   ]
  },
  {
   "cell_type": "code",
   "execution_count": 62,
   "id": "0e988051-3b2d-42f5-be8f-8d7d0483a810",
   "metadata": {},
   "outputs": [
    {
     "data": {
      "text/plain": [
       "<seaborn.axisgrid.FacetGrid at 0x19e49be9b20>"
      ]
     },
     "execution_count": 62,
     "metadata": {},
     "output_type": "execute_result"
    },
    {
     "data": {
      "image/png": "[encoded data removed]",
      "text/plain": [
       "<Figure size 511.111x500 with 1 Axes>"
      ]
     },
     "metadata": {},
     "output_type": "display_data"
    }
   ],
   "source": [
    "\n",
    "\n",
    "comb_df['Age'] = comb_df['Geography'].map({'France':1, 'Spain':2, 'Germany':3})\n",
    "comb_df['Gender'] = comb_df['Geography'].map({'France':0, 'Spain':1, 'Germany':0})\n",
    "sb.catplot(x='Geography', y='CreditScore', kind='bar', data=comb_df)"
   ]
  },
  {
   "cell_type": "code",
   "execution_count": 63,
   "id": "ab784062-c92f-41fd-9530-caff68f84423",
   "metadata": {},
   "outputs": [],
   "source": [
    "## Result: Credit score are same for France, Spain and Germany"
   ]
  },
  {
   "cell_type": "code",
   "execution_count": 64,
   "id": "a5f25d61-6ea0-4153-bec7-02bb1b1af9ab",
   "metadata": {},
   "outputs": [],
   "source": [
    "## 3b. Analyze customer balance and estimated salary patterns"
   ]
  },
  {
   "cell_type": "code",
   "execution_count": 65,
   "id": "e3f0d74e-09f7-45b2-86c5-d8840dbc1619",
   "metadata": {},
   "outputs": [
    {
     "data": {
      "text/plain": [
       "<seaborn.axisgrid.FacetGrid at 0x19e4a8f5be0>"
      ]
     },
     "execution_count": 65,
     "metadata": {},
     "output_type": "execute_result"
    },
    {
     "data": {
      "image/png": "[encoded data removed]",
      "text/plain": [
       "<Figure size 613.875x500 with 1 Axes>"
      ]
     },
     "metadata": {},
     "output_type": "display_data"
    }
   ],
   "source": [
    "comb_df['Balance_Bins']= pd.qcut(comb_df['Balance'], q=[0, .4, .8, 1])\n",
    "avg_salary =comb_df.groupby(['Balance_Bins', 'Geography'])['EstimatedSalary'].mean().reset_index()\n",
    "sb.catplot(x='Balance_Bins', y='EstimatedSalary', hue ='Geography', kind='bar', data=avg_salary)"
   ]
  },
  {
   "cell_type": "code",
   "execution_count": 66,
   "id": "529303cb-71bf-4e86-8f03-cd268c92f7d7",
   "metadata": {},
   "outputs": [],
   "source": [
    "## Result: First and third bins Germany is higher in salary patterns, second bin France is higher followed by Germany"
   ]
  },
  {
   "cell_type": "code",
   "execution_count": 67,
   "id": "8d9b68bf-2ea4-40fa-a1d2-722bb4cdfdab",
   "metadata": {},
   "outputs": [],
   "source": [
    "## Exited Customers Analysis:"
   ]
  },
  {
   "cell_type": "code",
   "execution_count": 68,
   "id": "cc8a4c99-7628-4a6d-b8cf-2c9965c87fc7",
   "metadata": {},
   "outputs": [
    {
     "data": {
      "text/plain": [
       "<seaborn.axisgrid.FacetGrid at 0x19e4a0cbce0>"
      ]
     },
     "execution_count": 68,
     "metadata": {},
     "output_type": "execute_result"
    },
    {
     "data": {
      "image/png": "[encoded data removed]",
      "text/plain": [
       "<Figure size 613.875x500 with 1 Axes>"
      ]
     },
     "metadata": {},
     "output_type": "display_data"
    }
   ],
   "source": [
    "comb_df['CreditScore'] = comb_df['Geography'].map({'France':1, 'Spain':2, 'Germany':3})\n",
    "comb_df['Balance'] = comb_df['Geography'].map({'France':0, 'Spain':1, 'Germany':0})\n",
    "sb.catplot(x='IsActiveMember', y='CreditScore', hue ='Geography', kind='bar', data=comb_df)"
   ]
  },
  {
   "cell_type": "code",
   "execution_count": 69,
   "id": "c03fc73d-5164-4515-8099-474d8512d0cc",
   "metadata": {},
   "outputs": [],
   "source": [
    "## Result: German Customers did better followed by Spain and then France"
   ]
  },
  {
   "cell_type": "code",
   "execution_count": 70,
   "id": "e8d1f894-4939-4618-889e-52e2a27a96f2",
   "metadata": {},
   "outputs": [],
   "source": [
    "## 4b. "
   ]
  },
  {
   "cell_type": "code",
   "execution_count": 71,
   "id": "b17de115-a208-4f09-8c0b-46d934d10543",
   "metadata": {},
   "outputs": [
    {
     "data": {
      "text/plain": [
       "<seaborn.axisgrid.FacetGrid at 0x19e49be9790>"
      ]
     },
     "execution_count": 71,
     "metadata": {},
     "output_type": "execute_result"
    },
    {
     "data": {
      "image/png": "[encoded data removed]",
      "text/plain": [
       "<Figure size 558.875x500 with 1 Axes>"
      ]
     },
     "metadata": {},
     "output_type": "display_data"
    }
   ],
   "source": [
    "sb.catplot(x='Balance', y='CreditScore',  hue= 'Exited', kind='bar', data=comb_df)"
   ]
  },
  {
   "cell_type": "code",
   "execution_count": 72,
   "id": "0da1be46-325d-42de-ac91-d4f65f81f1df",
   "metadata": {},
   "outputs": [],
   "source": [
    "## Result: Customers who left the bank have lesser credit score in the first bar chat while both customers who left and those that didnt leave are equal in the second bar chat"
   ]
  },
  {
   "cell_type": "code",
   "execution_count": 73,
   "id": "2c0912ae-f2f0-4799-a054-30aa550b16f4",
   "metadata": {},
   "outputs": [],
   "source": [
    "## 5. Customer Segmentation"
   ]
  }
 ],
 "metadata": {
  "kernelspec": {
   "display_name": "Python 3 (ipykernel)",
   "language": "python",
   "name": "python3"
  },
  "language_info": {
   "codemirror_mode": {
    "name": "ipython",
    "version": 3
   },
   "file_extension": ".py",
   "mimetype": "text/x-python",
   "name": "python",
   "nbconvert_exporter": "python",
   "pygments_lexer": "ipython3",
   "version": "3.12.4"
  }
 },
 "nbformat": 4,
 "nbformat_minor": 5
}
