{
 "cells": [
  {
   "cell_type": "markdown",
   "id": "c963bb30-3c62-4376-b73a-d54e67690a74",
   "metadata": {},
   "source": [
    "DATA ANALYSIS FINAL PROJECT- BANK CUSTOMER ANALYSIS\r\n",
    "\r\n",
    "Project Overview:\r\n",
    "The objective of this analysis is to analyze Bank XYZ dataset and gain insight into customer behavior, financial standing and engagement patterns.\r\n",
    "\r\n",
    "Problem Statement:\r\n",
    "Bank XYZ is looking to improve customer retention strategies, optimize financial products and better understand customer behavior across different segements. The dataset collected from the bank would give these insights.\r\n",
    "\r\n",
    "Objective:\r\n",
    "Our goal is to answer critical questions that will help Bank XYZ give more insights into its customer behavior, financial standing and engagement.\r\n",
    "\r\n",
    "Approach:\r\n",
    "The analysis followed the CRISP-DM (Cross-Industry Standard Process for Data Mining)\r\n",
    "Framework:\r\n",
    "1. Business Understanding: Identify key questions about customer behavior, financial standing and engagement patterns\r\n",
    "2. Data Understanding: Explore the dataset, which includes customer retention strategies, customer behavior across different segments\r\n",
    "3. Data Preparation: Clean and prepare the data for meaningful analysis\r\n",
    "4. Analysis and Insights: Answer specific business questions to uncover actionable insights\r\n",
    "Conclusion: Summarize findings and recommendations for business improvements.\r\n",
    "Presentation: Deliver a summary for stakeholders.\r\n",
    "\r\n",
    "Data Summary\r\n",
    "The data covers three geographical zones France, Spain and Germany as well as financial details of the customers in these zones.\r\n",
    "\r\n",
    "Key Insights and Findings:\r\n",
    "The analysis revealed several important insights about customer behavior and optimizing fiancial products:\r\n",
    "1. Demographic Analysis:\r\n",
    "  * Germany has more women then men closer to 40 years of age, followed by Spain and then France\r\n",
    "  * Females had a slightly higher credit score than men\r\n",
    "2. Customer Engagement Patterns:\r\n",
    "  * No. 4 product seemed to do better with longer tenured customers\r\n",
    "  * Yes longer tenured customers tend to hold more products\r\n",
    "3. Financial Performance:\r\n",
    "  * The credit score appeared to be evenly distributed across all   customer segments\r\n",
    "  *  The demographic group that was higher in estimated salary patterns was Germany\r\n",
    "4. Exited Customers Analysis:\r\n",
    "  * The credit score was compared against the goegraphical location it appeared that Germany did beter followed by Spain and then France \r\n",
    "  * Customers who are in the bank did better in credit score than those who left\r\n",
    "5. Customer Segmentation:\r\n",
    "\r\n",
    "RECOMMENDATIONS:\r\n",
    "\r\n",
    "CONCLUSIONS:"
   ]
  }
 ],
 "metadata": {
  "kernelspec": {
   "display_name": "Python 3 (ipykernel)",
   "language": "python",
   "name": "python3"
  },
  "language_info": {
   "codemirror_mode": {
    "name": "ipython",
    "version": 3
   },
   "file_extension": ".py",
   "mimetype": "text/x-python",
   "name": "python",
   "nbconvert_exporter": "python",
   "pygments_lexer": "ipython3",
   "version": "3.12.4"
  }
 },
 "nbformat": 4,
 "nbformat_minor": 5
}
